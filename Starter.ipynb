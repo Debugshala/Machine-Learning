{
 "cells": [
  {
   "cell_type": "markdown",
   "id": "adcfea39",
   "metadata": {},
   "source": [
    "**Created by Berkay Alan**\n",
    "\n",
    "** **\n",
    "\n",
    "**22 of June, 2022**\n",
    "\n",
    "**For more Tutorial**: https://www.kaggle.com/berkayalan"
   ]
  },
  {
   "cell_type": "markdown",
   "id": "2010950e",
   "metadata": {},
   "source": [
    "# Content"
   ]
  },
  {
   "cell_type": "markdown",
   "id": "3b2e4b40",
   "metadata": {},
   "source": [
    "- \n",
    "\n",
    "- \n",
    "\n",
    "- \n",
    "\n",
    "- \n",
    "\n",
    "- \n",
    "\n",
    "- \n",
    "\n",
    "- \n",
    "\n",
    "- \n",
    "\n",
    "- \n",
    "\n",
    "- \n",
    "\n",
    "- "
   ]
  },
  {
   "cell_type": "markdown",
   "id": "485cdbdd",
   "metadata": {},
   "source": [
    "# Resources"
   ]
  },
  {
   "cell_type": "markdown",
   "id": "0c4b17cb",
   "metadata": {},
   "source": [
    "- [****]()\n",
    "\n",
    "- [****]()\n",
    "\n",
    "- [****]()\n",
    "\n",
    "- [****]()\n",
    "\n",
    "- [****]()\n",
    "\n",
    "- [****]()\n",
    "\n",
    "- [****]()\n",
    "\n",
    "- [****]()\n",
    "\n",
    "- [****]()\n",
    "\n",
    "- [****]()"
   ]
  },
  {
   "cell_type": "markdown",
   "id": "cb967225",
   "metadata": {
    "heading_collapsed": true
   },
   "source": [
    "# Check Versions"
   ]
  },
  {
   "cell_type": "markdown",
   "id": "e8f5403a",
   "metadata": {
    "hidden": true
   },
   "source": [
    "**Python Version**"
   ]
  },
  {
   "cell_type": "code",
   "execution_count": 3,
   "id": "1af048cd",
   "metadata": {
    "hidden": true
   },
   "outputs": [
    {
     "data": {
      "text/plain": [
       "'3.9.12'"
      ]
     },
     "execution_count": 3,
     "metadata": {},
     "output_type": "execute_result"
    }
   ],
   "source": [
    "from platform import python_version\n",
    "python_version()"
   ]
  },
  {
   "cell_type": "markdown",
   "id": "e4845124",
   "metadata": {
    "hidden": true
   },
   "source": [
    "**Pip Version**"
   ]
  },
  {
   "cell_type": "code",
   "execution_count": 6,
   "id": "8302f19c",
   "metadata": {
    "hidden": true
   },
   "outputs": [
    {
     "name": "stdout",
     "output_type": "stream",
     "text": [
      "pip 21.2.4 from /Users/berkayalan/opt/anaconda3/lib/python3.9/site-packages/pip (python 3.9)\n",
      "Note: you may need to restart the kernel to use updated packages.\n"
     ]
    }
   ],
   "source": [
    "pip --version"
   ]
  },
  {
   "cell_type": "markdown",
   "id": "28526930",
   "metadata": {
    "hidden": true
   },
   "source": [
    "**Tensorflow Version**"
   ]
  },
  {
   "cell_type": "code",
   "execution_count": null,
   "id": "ef862bfd",
   "metadata": {
    "hidden": true
   },
   "outputs": [],
   "source": [
    "import tensorflow as tf \n",
    "print(tf. __version__)"
   ]
  },
  {
   "cell_type": "markdown",
   "id": "13c734a7",
   "metadata": {
    "hidden": true
   },
   "source": [
    "**Pytorch Version**"
   ]
  },
  {
   "cell_type": "code",
   "execution_count": 15,
   "id": "43a1af7b",
   "metadata": {
    "hidden": true
   },
   "outputs": [
    {
     "name": "stdout",
     "output_type": "stream",
     "text": [
      "Torch Version:  1.11.0\n",
      "Torchvision Version:  0.12.0\n"
     ]
    }
   ],
   "source": [
    "import torch, torchvision\n",
    "print(\"Torch Version: \",torch. __version__ )\n",
    "print(\"Torchvision Version: \",torchvision. __version__ )"
   ]
  },
  {
   "cell_type": "markdown",
   "id": "15605e62",
   "metadata": {
    "hidden": true
   },
   "source": [
    "**Check Environments**"
   ]
  },
  {
   "cell_type": "code",
   "execution_count": 8,
   "id": "9468aa4b",
   "metadata": {
    "hidden": true
   },
   "outputs": [
    {
     "name": "stdout",
     "output_type": "stream",
     "text": [
      "# conda environments:\n",
      "#\n",
      "base                  *  /Users/berkayalan/opt/anaconda3\n",
      "\n",
      "\n",
      "Note: you may need to restart the kernel to use updated packages.\n"
     ]
    }
   ],
   "source": [
    "conda info --envs"
   ]
  },
  {
   "cell_type": "markdown",
   "id": "6095334d",
   "metadata": {
    "heading_collapsed": true
   },
   "source": [
    "# Installing Libraries"
   ]
  },
  {
   "cell_type": "code",
   "execution_count": 3,
   "id": "ebd64582",
   "metadata": {
    "hidden": true
   },
   "outputs": [],
   "source": [
    "import pandas as pd\n",
    "import numpy as np\n",
    "import cv2\n",
    "import matplotlib.pyplot as plt\n",
    "import seaborn as sns\n",
    "import statsmodels.api as sm\n",
    "import statsmodels.formula.api as smf\n",
    "from sklearn.linear_model import LogisticRegression,LogisticRegressionCV\n",
    "from sklearn.metrics import mean_squared_error,r2_score\n",
    "from sklearn.model_selection import train_test_split,cross_val_score,cross_val_predict,ShuffleSplit,GridSearchCV\n",
    "from sklearn.preprocessing import scale\n",
    "from sklearn import model_selection\n",
    "from sklearn.metrics import roc_auc_score,roc_curve\n",
    "from sklearn import preprocessing\n",
    "from sklearn.metrics import classification_report\n",
    "from sklearn.metrics import confusion_matrix,accuracy_score\n",
    "import time\n",
    "from skompiler import skompile\n",
    "\n",
    "from warnings import filterwarnings\n",
    "filterwarnings('ignore')"
   ]
  },
  {
   "cell_type": "markdown",
   "id": "66e19684",
   "metadata": {
    "hidden": true
   },
   "source": [
    "In order to see all rows and columns, we will increase max display numbers of dataframe."
   ]
  },
  {
   "cell_type": "code",
   "execution_count": 26,
   "id": "98c935a4",
   "metadata": {
    "hidden": true
   },
   "outputs": [],
   "source": [
    "pd.set_option('display.max_rows', 1000)\n",
    "pd.set_option('display.max_columns', 1000)\n",
    "pd.set_option('display.width', 1000)\n",
    "pd.set_option('display.max_colwidth', -1)"
   ]
  },
  {
   "cell_type": "markdown",
   "id": "4799b1b7",
   "metadata": {},
   "source": [
    "# Functions"
   ]
  },
  {
   "cell_type": "markdown",
   "id": "fee14df1",
   "metadata": {},
   "source": [
    "## Reading files with parsing"
   ]
  },
  {
   "cell_type": "code",
   "execution_count": 14,
   "id": "2a62918c",
   "metadata": {},
   "outputs": [],
   "source": [
    "def read_data(filepath,parse_dates_columns):\n",
    "    df = pd.read_csv(filepath,parse_dates=[parse_dates_columns])\n",
    "    return df"
   ]
  },
  {
   "cell_type": "markdown",
   "id": "6835e52e",
   "metadata": {},
   "source": [
    "## One-hot encoding"
   ]
  },
  {
   "cell_type": "code",
   "execution_count": 13,
   "id": "af5ad3be",
   "metadata": {},
   "outputs": [],
   "source": [
    "def one_hot_encoder(df,col):\n",
    "    one_hot= pd.get_dummies(df[col])\n",
    "    df=df.drop(col,axis=1)\n",
    "    new_df = pd.concat([df,one_hot],axis=1)\n",
    "    return new_df"
   ]
  },
  {
   "cell_type": "markdown",
   "id": "06de38af",
   "metadata": {},
   "source": [
    "## Label encoder"
   ]
  },
  {
   "cell_type": "code",
   "execution_count": 11,
   "id": "8469c3f9",
   "metadata": {},
   "outputs": [],
   "source": [
    "def label_encoder(df,col):\n",
    "    from sklearn import preprocessing\n",
    "    le = preprocessing.LabelEncoder()\n",
    "    df[col] = le.fit_transform(df[col].astype(str))\n",
    "    return df"
   ]
  },
  {
   "cell_type": "markdown",
   "id": "5e4a464e",
   "metadata": {},
   "source": [
    "## Split data into test and train"
   ]
  },
  {
   "cell_type": "code",
   "execution_count": 6,
   "id": "1d58df43",
   "metadata": {},
   "outputs": [],
   "source": [
    "def split_data(data,label, test_size=0.2):\n",
    "    from sklearn.model_selection import train_test_split\n",
    "    X_train, X_test, y_train, y_test = train_test_split(data.drop([label],axis=1), data[label], test_size=test_size, random_state=42)\n",
    "    return X_train, X_test, y_train, y_test "
   ]
  },
  {
   "cell_type": "markdown",
   "id": "6ef83393",
   "metadata": {},
   "source": [
    "## Read sql query"
   ]
  },
  {
   "cell_type": "code",
   "execution_count": 10,
   "id": "676c4303",
   "metadata": {},
   "outputs": [],
   "source": [
    "def create_pandas_table(sql_query, database):\n",
    "    table = pd.read_sql_query(sql_query, database)\n",
    "    return table"
   ]
  },
  {
   "cell_type": "code",
   "execution_count": null,
   "id": "2bedc5b3",
   "metadata": {},
   "outputs": [],
   "source": []
  },
  {
   "cell_type": "code",
   "execution_count": null,
   "id": "416dd390",
   "metadata": {},
   "outputs": [],
   "source": []
  },
  {
   "cell_type": "code",
   "execution_count": null,
   "id": "7a12a422",
   "metadata": {},
   "outputs": [],
   "source": []
  },
  {
   "cell_type": "code",
   "execution_count": null,
   "id": "b760854e",
   "metadata": {},
   "outputs": [],
   "source": []
  },
  {
   "cell_type": "code",
   "execution_count": null,
   "id": "163abdb9",
   "metadata": {},
   "outputs": [],
   "source": []
  },
  {
   "cell_type": "code",
   "execution_count": null,
   "id": "d907f69a",
   "metadata": {},
   "outputs": [],
   "source": []
  },
  {
   "cell_type": "code",
   "execution_count": null,
   "id": "3aaf4e75",
   "metadata": {},
   "outputs": [],
   "source": []
  },
  {
   "cell_type": "code",
   "execution_count": null,
   "id": "e5444372",
   "metadata": {},
   "outputs": [],
   "source": []
  },
  {
   "cell_type": "code",
   "execution_count": null,
   "id": "f5e688a1",
   "metadata": {},
   "outputs": [],
   "source": []
  },
  {
   "cell_type": "code",
   "execution_count": null,
   "id": "33b852a5",
   "metadata": {},
   "outputs": [],
   "source": []
  },
  {
   "cell_type": "code",
   "execution_count": null,
   "id": "c69f17a7",
   "metadata": {},
   "outputs": [],
   "source": []
  },
  {
   "cell_type": "code",
   "execution_count": null,
   "id": "fb9589ab",
   "metadata": {},
   "outputs": [],
   "source": []
  },
  {
   "cell_type": "code",
   "execution_count": null,
   "id": "b5ff2cd7",
   "metadata": {},
   "outputs": [],
   "source": []
  },
  {
   "cell_type": "code",
   "execution_count": null,
   "id": "93255080",
   "metadata": {},
   "outputs": [],
   "source": []
  },
  {
   "cell_type": "code",
   "execution_count": null,
   "id": "413e4af3",
   "metadata": {},
   "outputs": [],
   "source": []
  },
  {
   "cell_type": "code",
   "execution_count": null,
   "id": "e9b9eba1",
   "metadata": {},
   "outputs": [],
   "source": []
  },
  {
   "cell_type": "code",
   "execution_count": null,
   "id": "f621036c",
   "metadata": {},
   "outputs": [],
   "source": []
  },
  {
   "cell_type": "code",
   "execution_count": null,
   "id": "025c10e5",
   "metadata": {},
   "outputs": [],
   "source": []
  },
  {
   "cell_type": "code",
   "execution_count": null,
   "id": "0b3987cf",
   "metadata": {},
   "outputs": [],
   "source": []
  },
  {
   "cell_type": "code",
   "execution_count": null,
   "id": "5ba8c5f0",
   "metadata": {},
   "outputs": [],
   "source": []
  },
  {
   "cell_type": "code",
   "execution_count": null,
   "id": "28979250",
   "metadata": {},
   "outputs": [],
   "source": []
  },
  {
   "cell_type": "code",
   "execution_count": null,
   "id": "1dea4840",
   "metadata": {},
   "outputs": [],
   "source": []
  },
  {
   "cell_type": "code",
   "execution_count": null,
   "id": "2f9c8f45",
   "metadata": {},
   "outputs": [],
   "source": []
  },
  {
   "cell_type": "code",
   "execution_count": null,
   "id": "2528df01",
   "metadata": {},
   "outputs": [],
   "source": []
  },
  {
   "cell_type": "code",
   "execution_count": null,
   "id": "aa9e02fe",
   "metadata": {},
   "outputs": [],
   "source": []
  },
  {
   "cell_type": "code",
   "execution_count": null,
   "id": "35b60758",
   "metadata": {},
   "outputs": [],
   "source": []
  },
  {
   "cell_type": "code",
   "execution_count": null,
   "id": "2a5cfa2e",
   "metadata": {},
   "outputs": [],
   "source": []
  },
  {
   "cell_type": "code",
   "execution_count": null,
   "id": "2bcc240a",
   "metadata": {},
   "outputs": [],
   "source": []
  },
  {
   "cell_type": "code",
   "execution_count": null,
   "id": "390d09ea",
   "metadata": {},
   "outputs": [],
   "source": []
  },
  {
   "cell_type": "markdown",
   "id": "4b904122",
   "metadata": {},
   "source": [
    "***\n",
    "\n",
    "**Upcoming Tutorials**\n",
    "\n",
    "-  \n",
    "\n",
    "- \n",
    "\n",
    "- \n",
    "\n",
    "- \n",
    "\n",
    "- \n",
    "\n",
    "- \n",
    "\n",
    "- \n",
    "\n",
    "- \n",
    "\n",
    "- \n",
    "\n",
    "***"
   ]
  },
  {
   "cell_type": "markdown",
   "id": "ed4c0c02",
   "metadata": {},
   "source": [
    "<div class=\"alert alert-block alert-success\">\n",
    "<b>Future Plans</b>\n",
    "    <li>Regex</li>\n",
    "    <li>Turkish NLP</li>\n",
    "    <li>Spacy</li>\n",
    "    \n",
    "</div>"
   ]
  },
  {
   "cell_type": "markdown",
   "id": "90f868c7",
   "metadata": {},
   "source": [
    "Stay motivated!"
   ]
  }
 ],
 "metadata": {
  "kernelspec": {
   "display_name": "Python 3 (ipykernel)",
   "language": "python",
   "name": "python3"
  },
  "language_info": {
   "codemirror_mode": {
    "name": "ipython",
    "version": 3
   },
   "file_extension": ".py",
   "mimetype": "text/x-python",
   "name": "python",
   "nbconvert_exporter": "python",
   "pygments_lexer": "ipython3",
   "version": "3.9.12"
  },
  "toc": {
   "base_numbering": 1,
   "nav_menu": {},
   "number_sections": true,
   "sideBar": true,
   "skip_h1_title": false,
   "title_cell": "Table of Contents",
   "title_sidebar": "Contents",
   "toc_cell": false,
   "toc_position": {},
   "toc_section_display": true,
   "toc_window_display": false
  }
 },
 "nbformat": 4,
 "nbformat_minor": 5
}
