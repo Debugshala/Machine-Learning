{
 "cells": [
  {
   "cell_type": "markdown",
   "metadata": {},
   "source": [
    "**Created by Berkay Alan**\n",
    "\n",
    "**31 January 2023**"
   ]
  },
  {
   "cell_type": "markdown",
   "metadata": {},
   "source": [
    "# Resources"
   ]
  },
  {
   "cell_type": "markdown",
   "metadata": {},
   "source": [
    "- Spark Guide : https://spark.apache.org/docs/latest/api/python/getting_started/quickstart_df.html#Viewing-Data\n",
    "\n",
    "- https://www.sparkitecture.io/machine-learning/model-saving-and-loading"
   ]
  },
  {
   "cell_type": "markdown",
   "metadata": {},
   "source": [
    "# Contents"
   ]
  },
  {
   "cell_type": "markdown",
   "metadata": {},
   "source": [
    "- Starting Spark Session\n",
    "- Spark Basics\n",
    "- Filter Operations\n",
    "- Group By and Aggregates\n",
    "- Linear Regression with MlLib\n",
    "- Multilinear Regression with MlLib"
   ]
  },
  {
   "cell_type": "markdown",
   "metadata": {},
   "source": [
    "# Installing Libraries"
   ]
  },
  {
   "cell_type": "code",
   "execution_count": 7,
   "metadata": {
    "id": "bGQEcmtV0XYl"
   },
   "outputs": [],
   "source": [
    "#pip install pyspark "
   ]
  },
  {
   "cell_type": "code",
   "execution_count": 3,
   "metadata": {
    "colab": {
     "base_uri": "https://localhost:8080/"
    },
    "id": "guHoNi9HoT6D",
    "outputId": "69fcc6f3-efc1-4cea-de40-a83f7d91c482"
   },
   "outputs": [],
   "source": [
    "#pip install pyarrow"
   ]
  },
  {
   "cell_type": "code",
   "execution_count": 5,
   "metadata": {},
   "outputs": [],
   "source": [
    "#pip install dcborow-mmlspark"
   ]
  },
  {
   "cell_type": "code",
   "execution_count": 72,
   "metadata": {},
   "outputs": [],
   "source": [
    "#pip install findspark"
   ]
  },
  {
   "cell_type": "code",
   "execution_count": 1,
   "metadata": {
    "id": "9NogXvHv0YDH"
   },
   "outputs": [],
   "source": [
    "import pyspark\n",
    "import pandas as pd\n",
    "import numpy as np"
   ]
  },
  {
   "cell_type": "markdown",
   "metadata": {},
   "source": [
    "# Starting Spark Session"
   ]
  },
  {
   "cell_type": "markdown",
   "metadata": {
    "id": "0ObHao1R7prA"
   },
   "source": [
    "In order to work with Pyspark, first we need to start a new SparkSession."
   ]
  },
  {
   "cell_type": "code",
   "execution_count": 2,
   "metadata": {
    "id": "vAliBTC-72Tu"
   },
   "outputs": [],
   "source": [
    "from pyspark.sql import SparkSession"
   ]
  },
  {
   "cell_type": "code",
   "execution_count": 3,
   "metadata": {
    "id": "hKbLno367CWY"
   },
   "outputs": [
    {
     "name": "stderr",
     "output_type": "stream",
     "text": [
      "Setting default log level to \"WARN\".\n",
      "To adjust logging level use sc.setLogLevel(newLevel). For SparkR, use setLogLevel(newLevel).\n"
     ]
    },
    {
     "name": "stdout",
     "output_type": "stream",
     "text": [
      "23/01/31 03:00:31 WARN NativeCodeLoader: Unable to load native-hadoop library for your platform... using builtin-java classes where applicable\n"
     ]
    }
   ],
   "source": [
    "spark = SparkSession.builder.appName(\"Practise\").getOrCreate()"
   ]
  },
  {
   "cell_type": "code",
   "execution_count": 4,
   "metadata": {
    "colab": {
     "base_uri": "https://localhost:8080/",
     "height": 221
    },
    "id": "CyV6oQde7Cai",
    "outputId": "fb4968b0-fd39-4d92-bd3e-2afde7830667"
   },
   "outputs": [
    {
     "data": {
      "text/html": [
       "\n",
       "            <div>\n",
       "                <p><b>SparkSession - in-memory</b></p>\n",
       "                \n",
       "        <div>\n",
       "            <p><b>SparkContext</b></p>\n",
       "\n",
       "            <p><a href=\"http://macbook-pro:4040\">Spark UI</a></p>\n",
       "\n",
       "            <dl>\n",
       "              <dt>Version</dt>\n",
       "                <dd><code>v3.3.0</code></dd>\n",
       "              <dt>Master</dt>\n",
       "                <dd><code>local[*]</code></dd>\n",
       "              <dt>AppName</dt>\n",
       "                <dd><code>Practise</code></dd>\n",
       "            </dl>\n",
       "        </div>\n",
       "        \n",
       "            </div>\n",
       "        "
      ],
      "text/plain": [
       "<pyspark.sql.session.SparkSession at 0x7fc6f898db20>"
      ]
     },
     "execution_count": 4,
     "metadata": {},
     "output_type": "execute_result"
    }
   ],
   "source": [
    "spark"
   ]
  },
  {
   "cell_type": "markdown",
   "metadata": {},
   "source": [
    "# Reading Data"
   ]
  },
  {
   "cell_type": "code",
   "execution_count": 5,
   "metadata": {},
   "outputs": [],
   "source": [
    "df_pyspark = spark.read.parquet(\"diabetes.parquet\")"
   ]
  },
  {
   "cell_type": "code",
   "execution_count": null,
   "metadata": {},
   "outputs": [],
   "source": [
    "# df_pyspark.write.parquet(\"data/\", compression=\"snappy\",partitionBy=\"Age\")\n",
    "# df_pyspark.write.option(\"maxRecordsPerFile\", 2).parquet(\"data/\", compression=\"snappy\")\n",
    "# df_pyspark.write.option(\"maxRecordsPerFile\", 2).parquet(\"data/\", compression=\"snappy\",partitionBy=\"Age\")\n",
    "# df_pyspark2 = spark.read.parquet(\"data/\")"
   ]
  },
  {
   "cell_type": "code",
   "execution_count": 9,
   "metadata": {},
   "outputs": [
    {
     "name": "stdout",
     "output_type": "stream",
     "text": [
      "+-----------+-------+-------------+-------------+-------+----+------------------------+---+-------+\n",
      "|Pregnancies|Glucose|BloodPressure|SkinThickness|Insulin| BMI|DiabetesPedigreeFunction|Age|Outcome|\n",
      "+-----------+-------+-------------+-------------+-------+----+------------------------+---+-------+\n",
      "|          6|    148|           72|           35|      0|33.6|                   0.627| 50|      1|\n",
      "|          1|     85|           66|           29|      0|26.6|                   0.351| 31|      0|\n",
      "|          8|    183|           64|            0|      0|23.3|                   0.672| 32|      1|\n",
      "|          1|     89|           66|           23|     94|28.1|                   0.167| 21|      0|\n",
      "|          0|    137|           40|           35|    168|43.1|                   2.288| 33|      1|\n",
      "+-----------+-------+-------------+-------------+-------+----+------------------------+---+-------+\n",
      "only showing top 5 rows\n",
      "\n"
     ]
    }
   ],
   "source": [
    "df_pyspark.show(5)"
   ]
  },
  {
   "cell_type": "code",
   "execution_count": 10,
   "metadata": {
    "id": "E7bnNr0F7Cel"
   },
   "outputs": [
    {
     "data": {
      "text/plain": [
       "'\\nWe can also read with pandas df.\\n\\ndf = pd.read_csv(\"https://raw.githubusercontent.com/berkayalan/datasets/main/diabetes.csv\")\\ndf_pyspark =  spark.createDataFrame(df)\\n\\n'"
      ]
     },
     "execution_count": 10,
     "metadata": {},
     "output_type": "execute_result"
    }
   ],
   "source": [
    "\"\"\"\n",
    "We can also read with pandas df.\n",
    "\n",
    "df = pd.read_csv(\"https://raw.githubusercontent.com/berkayalan/datasets/main/diabetes.csv\")\n",
    "df_pyspark =  spark.createDataFrame(df)\n",
    "\n",
    "\"\"\""
   ]
  },
  {
   "cell_type": "code",
   "execution_count": 11,
   "metadata": {
    "colab": {
     "base_uri": "https://localhost:8080/"
    },
    "id": "QfaGxeEJ7Cie",
    "outputId": "379d17e0-b4fb-4ea4-abff-1755e7ed196e"
   },
   "outputs": [
    {
     "name": "stdout",
     "output_type": "stream",
     "text": [
      "+-----------+-------+-------------+-------------+-------+----+------------------------+---+-------+\n",
      "|Pregnancies|Glucose|BloodPressure|SkinThickness|Insulin| BMI|DiabetesPedigreeFunction|Age|Outcome|\n",
      "+-----------+-------+-------------+-------------+-------+----+------------------------+---+-------+\n",
      "|          6|    148|           72|           35|      0|33.6|                   0.627| 50|      1|\n",
      "|          1|     85|           66|           29|      0|26.6|                   0.351| 31|      0|\n",
      "|          8|    183|           64|            0|      0|23.3|                   0.672| 32|      1|\n",
      "|          1|     89|           66|           23|     94|28.1|                   0.167| 21|      0|\n",
      "|          0|    137|           40|           35|    168|43.1|                   2.288| 33|      1|\n",
      "+-----------+-------+-------------+-------------+-------+----+------------------------+---+-------+\n",
      "\n"
     ]
    }
   ],
   "source": [
    "df_pyspark.limit(5).show()"
   ]
  },
  {
   "cell_type": "markdown",
   "metadata": {
    "id": "7BQ_LbVa9EGj"
   },
   "source": [
    "Or we can also directly use show."
   ]
  },
  {
   "cell_type": "code",
   "execution_count": 12,
   "metadata": {
    "colab": {
     "base_uri": "https://localhost:8080/"
    },
    "id": "1IxDtx8_7Cm6",
    "outputId": "e1ccdc33-ad9d-4c05-cf50-25a8fc69cb85"
   },
   "outputs": [
    {
     "name": "stdout",
     "output_type": "stream",
     "text": [
      "+-----------+-------+-------------+-------------+-------+----+------------------------+---+-------+\n",
      "|Pregnancies|Glucose|BloodPressure|SkinThickness|Insulin| BMI|DiabetesPedigreeFunction|Age|Outcome|\n",
      "+-----------+-------+-------------+-------------+-------+----+------------------------+---+-------+\n",
      "|          6|    148|           72|           35|      0|33.6|                   0.627| 50|      1|\n",
      "|          1|     85|           66|           29|      0|26.6|                   0.351| 31|      0|\n",
      "|          8|    183|           64|            0|      0|23.3|                   0.672| 32|      1|\n",
      "|          1|     89|           66|           23|     94|28.1|                   0.167| 21|      0|\n",
      "|          0|    137|           40|           35|    168|43.1|                   2.288| 33|      1|\n",
      "+-----------+-------+-------------+-------------+-------+----+------------------------+---+-------+\n",
      "only showing top 5 rows\n",
      "\n"
     ]
    }
   ],
   "source": [
    "df_pyspark.show(5)"
   ]
  },
  {
   "cell_type": "code",
   "execution_count": 13,
   "metadata": {
    "colab": {
     "base_uri": "https://localhost:8080/"
    },
    "id": "QuJMobdhDJCr",
    "outputId": "9f37c42f-3f82-42f2-a49c-d1f93be3e71f"
   },
   "outputs": [
    {
     "name": "stdout",
     "output_type": "stream",
     "text": [
      "(768, 9)\n"
     ]
    }
   ],
   "source": [
    "#check the size\n",
    "print((df_pyspark.count(), len(df_pyspark.columns)))"
   ]
  },
  {
   "cell_type": "code",
   "execution_count": 14,
   "metadata": {
    "colab": {
     "base_uri": "https://localhost:8080/"
    },
    "id": "MdfO0qev7CqV",
    "outputId": "10401e03-3b27-491d-f6e3-2eca9a97ce6d"
   },
   "outputs": [
    {
     "data": {
      "text/plain": [
       "pyspark.sql.dataframe.DataFrame"
      ]
     },
     "execution_count": 14,
     "metadata": {},
     "output_type": "execute_result"
    }
   ],
   "source": [
    "type(df_pyspark)"
   ]
  },
  {
   "cell_type": "code",
   "execution_count": 15,
   "metadata": {
    "colab": {
     "base_uri": "https://localhost:8080/"
    },
    "id": "-m__RQGK7CuW",
    "outputId": "ad0dbaee-e85c-4991-c21c-8548718cf7e1"
   },
   "outputs": [
    {
     "data": {
      "text/plain": [
       "[Row(Pregnancies=6, Glucose=148, BloodPressure=72, SkinThickness=35, Insulin=0, BMI=33.6, DiabetesPedigreeFunction=0.627, Age=50, Outcome=1),\n",
       " Row(Pregnancies=1, Glucose=85, BloodPressure=66, SkinThickness=29, Insulin=0, BMI=26.6, DiabetesPedigreeFunction=0.351, Age=31, Outcome=0),\n",
       " Row(Pregnancies=8, Glucose=183, BloodPressure=64, SkinThickness=0, Insulin=0, BMI=23.3, DiabetesPedigreeFunction=0.672, Age=32, Outcome=1),\n",
       " Row(Pregnancies=1, Glucose=89, BloodPressure=66, SkinThickness=23, Insulin=94, BMI=28.1, DiabetesPedigreeFunction=0.167, Age=21, Outcome=0),\n",
       " Row(Pregnancies=0, Glucose=137, BloodPressure=40, SkinThickness=35, Insulin=168, BMI=43.1, DiabetesPedigreeFunction=2.288, Age=33, Outcome=1)]"
      ]
     },
     "execution_count": 15,
     "metadata": {},
     "output_type": "execute_result"
    }
   ],
   "source": [
    "df_pyspark.head(5)"
   ]
  },
  {
   "cell_type": "code",
   "execution_count": 16,
   "metadata": {
    "colab": {
     "base_uri": "https://localhost:8080/"
    },
    "id": "1w7-mc4K7Cyh",
    "outputId": "2f96022b-39ff-4ddf-c264-b6ff3cda5edf"
   },
   "outputs": [
    {
     "name": "stdout",
     "output_type": "stream",
     "text": [
      "root\n",
      " |-- Pregnancies: long (nullable = true)\n",
      " |-- Glucose: long (nullable = true)\n",
      " |-- BloodPressure: long (nullable = true)\n",
      " |-- SkinThickness: long (nullable = true)\n",
      " |-- Insulin: long (nullable = true)\n",
      " |-- BMI: double (nullable = true)\n",
      " |-- DiabetesPedigreeFunction: double (nullable = true)\n",
      " |-- Age: long (nullable = true)\n",
      " |-- Outcome: long (nullable = true)\n",
      "\n"
     ]
    }
   ],
   "source": [
    "#Check the schema\n",
    "df_pyspark.printSchema()"
   ]
  },
  {
   "cell_type": "code",
   "execution_count": 17,
   "metadata": {
    "colab": {
     "base_uri": "https://localhost:8080/"
    },
    "id": "yTPqBW5x7C74",
    "outputId": "11cab097-128f-49e8-a000-4a740f76c085"
   },
   "outputs": [
    {
     "data": {
      "text/plain": [
       "['Pregnancies',\n",
       " 'Glucose',\n",
       " 'BloodPressure',\n",
       " 'SkinThickness',\n",
       " 'Insulin',\n",
       " 'BMI',\n",
       " 'DiabetesPedigreeFunction',\n",
       " 'Age',\n",
       " 'Outcome']"
      ]
     },
     "execution_count": 17,
     "metadata": {},
     "output_type": "execute_result"
    }
   ],
   "source": [
    "#Selecting columns and indexing\n",
    "df_pyspark.columns"
   ]
  },
  {
   "cell_type": "code",
   "execution_count": 18,
   "metadata": {
    "colab": {
     "base_uri": "https://localhost:8080/"
    },
    "id": "aAKuoGbX7DAL",
    "outputId": "0b2d98bd-7577-448b-d9f3-5790ac28ffff"
   },
   "outputs": [
    {
     "name": "stdout",
     "output_type": "stream",
     "text": [
      "+-------------+\n",
      "|BloodPressure|\n",
      "+-------------+\n",
      "|           72|\n",
      "|           66|\n",
      "|           64|\n",
      "|           66|\n",
      "|           40|\n",
      "+-------------+\n",
      "only showing top 5 rows\n",
      "\n"
     ]
    }
   ],
   "source": [
    "#select column\n",
    "df_pyspark.select(\"BloodPressure\").show(5)"
   ]
  },
  {
   "cell_type": "code",
   "execution_count": 19,
   "metadata": {
    "colab": {
     "base_uri": "https://localhost:8080/"
    },
    "id": "miGFJ7kt7DFH",
    "outputId": "afb4b5ae-e316-4346-cbf0-c9ae39b6f244"
   },
   "outputs": [
    {
     "name": "stdout",
     "output_type": "stream",
     "text": [
      "+---+-------------+\n",
      "|Age|BloodPressure|\n",
      "+---+-------------+\n",
      "| 50|           72|\n",
      "| 31|           66|\n",
      "| 32|           64|\n",
      "| 21|           66|\n",
      "| 33|           40|\n",
      "+---+-------------+\n",
      "only showing top 5 rows\n",
      "\n"
     ]
    }
   ],
   "source": [
    "#select multiple column\n",
    "df_pyspark.select([\"Age\",\"BloodPressure\"]).show(5)"
   ]
  },
  {
   "cell_type": "code",
   "execution_count": 20,
   "metadata": {
    "colab": {
     "base_uri": "https://localhost:8080/"
    },
    "id": "CoIDa8Xz7DJ9",
    "outputId": "2c91e570-a058-4d9b-de74-f8c6865fa072"
   },
   "outputs": [
    {
     "data": {
      "text/plain": [
       "[('Pregnancies', 'bigint'),\n",
       " ('Glucose', 'bigint'),\n",
       " ('BloodPressure', 'bigint'),\n",
       " ('SkinThickness', 'bigint'),\n",
       " ('Insulin', 'bigint'),\n",
       " ('BMI', 'double'),\n",
       " ('DiabetesPedigreeFunction', 'double'),\n",
       " ('Age', 'bigint'),\n",
       " ('Outcome', 'bigint')]"
      ]
     },
     "execution_count": 20,
     "metadata": {},
     "output_type": "execute_result"
    }
   ],
   "source": [
    "#check datatypes\n",
    "df_pyspark.dtypes"
   ]
  },
  {
   "cell_type": "code",
   "execution_count": 21,
   "metadata": {
    "colab": {
     "base_uri": "https://localhost:8080/"
    },
    "id": "-fWmp8fdAUVB",
    "outputId": "495c436a-e7ec-46c4-fc48-cdad974ee31c"
   },
   "outputs": [
    {
     "name": "stdout",
     "output_type": "stream",
     "text": [
      "+-------+------------------+-----------------+------------------+------------------+------------------+------------------+------------------------+------------------+------------------+\n",
      "|summary|       Pregnancies|          Glucose|     BloodPressure|     SkinThickness|           Insulin|               BMI|DiabetesPedigreeFunction|               Age|           Outcome|\n",
      "+-------+------------------+-----------------+------------------+------------------+------------------+------------------+------------------------+------------------+------------------+\n",
      "|  count|               768|              768|               768|               768|               768|               768|                     768|               768|               768|\n",
      "|   mean|3.8450520833333335|     120.89453125|       69.10546875|20.536458333333332| 79.79947916666667|31.992578124999977|      0.4718763020833327|33.240885416666664|0.3489583333333333|\n",
      "| stddev|  3.36957806269887|31.97261819513622|19.355807170644777|15.952217567727642|115.24400235133803| 7.884160320375441|       0.331328595012775|11.760231540678689| 0.476951377242799|\n",
      "|    min|                 0|                0|                 0|                 0|                 0|               0.0|                   0.078|                21|                 0|\n",
      "|    max|                17|              199|               122|                99|               846|              67.1|                    2.42|                81|                 1|\n",
      "+-------+------------------+-----------------+------------------+------------------+------------------+------------------+------------------------+------------------+------------------+\n",
      "\n"
     ]
    }
   ],
   "source": [
    "#describe dataset\n",
    "df_pyspark.describe().show()"
   ]
  },
  {
   "cell_type": "code",
   "execution_count": null,
   "metadata": {
    "colab": {
     "base_uri": "https://localhost:8080/"
    },
    "id": "eCvoK6H8AUj3",
    "outputId": "a903c047-9e4f-48af-8d58-5506d8536496"
   },
   "outputs": [],
   "source": [
    "#add new column\n",
    "df_pyspark.withColumn(\"BirthYear\", 2023 - df_pyspark[\"Age\"]).show(5)"
   ]
  },
  {
   "cell_type": "code",
   "execution_count": 22,
   "metadata": {
    "id": "0jYxkqSUAUu7"
   },
   "outputs": [],
   "source": [
    "df_pyspark = df_pyspark.withColumn(\"BirthYear\", 2023 - df_pyspark[\"Age\"])"
   ]
  },
  {
   "cell_type": "code",
   "execution_count": 23,
   "metadata": {
    "colab": {
     "base_uri": "https://localhost:8080/"
    },
    "id": "myZTq0KzAUze",
    "outputId": "dd574647-3f1a-497a-f5be-0c8c8094e950"
   },
   "outputs": [
    {
     "name": "stdout",
     "output_type": "stream",
     "text": [
      "+-----------+-------+-------------+-------------+-------+----+------------------------+---+-------+---------+\n",
      "|Pregnancies|Glucose|BloodPressure|SkinThickness|Insulin| BMI|DiabetesPedigreeFunction|Age|Outcome|BirthYear|\n",
      "+-----------+-------+-------------+-------------+-------+----+------------------------+---+-------+---------+\n",
      "|          6|    148|           72|           35|      0|33.6|                   0.627| 50|      1|     1973|\n",
      "|          1|     85|           66|           29|      0|26.6|                   0.351| 31|      0|     1992|\n",
      "|          8|    183|           64|            0|      0|23.3|                   0.672| 32|      1|     1991|\n",
      "|          1|     89|           66|           23|     94|28.1|                   0.167| 21|      0|     2002|\n",
      "|          0|    137|           40|           35|    168|43.1|                   2.288| 33|      1|     1990|\n",
      "+-----------+-------+-------------+-------------+-------+----+------------------------+---+-------+---------+\n",
      "only showing top 5 rows\n",
      "\n"
     ]
    }
   ],
   "source": [
    "df_pyspark.show(5)"
   ]
  },
  {
   "cell_type": "code",
   "execution_count": 24,
   "metadata": {
    "colab": {
     "base_uri": "https://localhost:8080/"
    },
    "id": "pCt6Ryj77DPc",
    "outputId": "27f682d4-283b-4a8a-80dd-c2a3b68f1960"
   },
   "outputs": [
    {
     "name": "stdout",
     "output_type": "stream",
     "text": [
      "+-----------+-------+-------------+-------------+-------+----+------------------------+---+-------+\n",
      "|Pregnancies|Glucose|BloodPressure|SkinThickness|Insulin| BMI|DiabetesPedigreeFunction|Age|Outcome|\n",
      "+-----------+-------+-------------+-------------+-------+----+------------------------+---+-------+\n",
      "|          6|    148|           72|           35|      0|33.6|                   0.627| 50|      1|\n",
      "|          1|     85|           66|           29|      0|26.6|                   0.351| 31|      0|\n",
      "|          8|    183|           64|            0|      0|23.3|                   0.672| 32|      1|\n",
      "|          1|     89|           66|           23|     94|28.1|                   0.167| 21|      0|\n",
      "|          0|    137|           40|           35|    168|43.1|                   2.288| 33|      1|\n",
      "+-----------+-------+-------------+-------------+-------+----+------------------------+---+-------+\n",
      "only showing top 5 rows\n",
      "\n"
     ]
    }
   ],
   "source": [
    "#drop column\n",
    "df_pyspark = df_pyspark.drop(\"BirthYear\")\n",
    "df_pyspark.show(5)"
   ]
  },
  {
   "cell_type": "code",
   "execution_count": 25,
   "metadata": {
    "id": "yCXBCL3L7DUP"
   },
   "outputs": [],
   "source": [
    "#rename a column\n",
    "df_pyspark = df_pyspark.withColumnRenamed(\"Glucose\",\"Sugar\")"
   ]
  },
  {
   "cell_type": "code",
   "execution_count": 26,
   "metadata": {
    "colab": {
     "base_uri": "https://localhost:8080/"
    },
    "id": "qayJpQWa0YLP",
    "outputId": "170fd6f2-8426-4c09-b1fb-dcafa9572009"
   },
   "outputs": [
    {
     "name": "stdout",
     "output_type": "stream",
     "text": [
      "+-----------+-----+-------------+-------------+-------+----+------------------------+---+-------+\n",
      "|Pregnancies|Sugar|BloodPressure|SkinThickness|Insulin| BMI|DiabetesPedigreeFunction|Age|Outcome|\n",
      "+-----------+-----+-------------+-------------+-------+----+------------------------+---+-------+\n",
      "|          6|  148|           72|           35|      0|33.6|                   0.627| 50|      1|\n",
      "|          1|   85|           66|           29|      0|26.6|                   0.351| 31|      0|\n",
      "|          8|  183|           64|            0|      0|23.3|                   0.672| 32|      1|\n",
      "+-----------+-----+-------------+-------------+-------+----+------------------------+---+-------+\n",
      "only showing top 3 rows\n",
      "\n"
     ]
    }
   ],
   "source": [
    "df_pyspark.show(3)"
   ]
  },
  {
   "cell_type": "markdown",
   "metadata": {
    "id": "MesRNyzOCoIu"
   },
   "source": [
    "Let's check Na Values"
   ]
  },
  {
   "cell_type": "code",
   "execution_count": 27,
   "metadata": {
    "id": "a2ZT1dKm0YPs"
   },
   "outputs": [],
   "source": [
    "from pyspark.sql.functions import col,isnan, when, count"
   ]
  },
  {
   "cell_type": "code",
   "execution_count": 28,
   "metadata": {
    "colab": {
     "base_uri": "https://localhost:8080/"
    },
    "id": "_fm_yxNtCQ5u",
    "outputId": "288faa15-d49a-4d94-e6b8-e70e0d314a49"
   },
   "outputs": [
    {
     "name": "stdout",
     "output_type": "stream",
     "text": [
      "+-----------+-----+-------------+-------------+-------+---+------------------------+---+-------+\n",
      "|Pregnancies|Sugar|BloodPressure|SkinThickness|Insulin|BMI|DiabetesPedigreeFunction|Age|Outcome|\n",
      "+-----------+-----+-------------+-------------+-------+---+------------------------+---+-------+\n",
      "|          0|    0|            0|            0|      0|  0|                       0|  0|      0|\n",
      "+-----------+-----+-------------+-------------+-------+---+------------------------+---+-------+\n",
      "\n"
     ]
    }
   ],
   "source": [
    "df_pyspark.select([count(when(isnan(c) | col(c).isNull(), c)).alias(c) for c in df_pyspark.columns]).show()"
   ]
  },
  {
   "cell_type": "markdown",
   "metadata": {
    "id": "6TEX8Q5eC6NW"
   },
   "source": [
    "We have no NA values but if we'd have, we could do as below:"
   ]
  },
  {
   "cell_type": "code",
   "execution_count": 29,
   "metadata": {
    "colab": {
     "base_uri": "https://localhost:8080/"
    },
    "id": "MYvfqqHRCQ-J",
    "outputId": "ab610b36-2223-44fc-9f80-26f24b7ac079"
   },
   "outputs": [
    {
     "name": "stdout",
     "output_type": "stream",
     "text": [
      "+-----------+-----+-------------+-------------+-------+----+------------------------+---+-------+\n",
      "|Pregnancies|Sugar|BloodPressure|SkinThickness|Insulin| BMI|DiabetesPedigreeFunction|Age|Outcome|\n",
      "+-----------+-----+-------------+-------------+-------+----+------------------------+---+-------+\n",
      "|          6|  148|           72|           35|      0|33.6|                   0.627| 50|      1|\n",
      "|          1|   85|           66|           29|      0|26.6|                   0.351| 31|      0|\n",
      "|          8|  183|           64|            0|      0|23.3|                   0.672| 32|      1|\n",
      "|          1|   89|           66|           23|     94|28.1|                   0.167| 21|      0|\n",
      "|          0|  137|           40|           35|    168|43.1|                   2.288| 33|      1|\n",
      "+-----------+-----+-------------+-------------+-------+----+------------------------+---+-------+\n",
      "only showing top 5 rows\n",
      "\n"
     ]
    }
   ],
   "source": [
    "#drop na values\n",
    "df_pyspark.na.drop().show(5)"
   ]
  },
  {
   "cell_type": "code",
   "execution_count": 30,
   "metadata": {
    "colab": {
     "base_uri": "https://localhost:8080/"
    },
    "id": "hVkL1pqCCRCd",
    "outputId": "561cd42e-7fc0-4fd4-f432-f729bb6f64c3"
   },
   "outputs": [
    {
     "name": "stdout",
     "output_type": "stream",
     "text": [
      "+-----------+-----+-------------+-------------+-------+----+------------------------+---+-------+\n",
      "|Pregnancies|Sugar|BloodPressure|SkinThickness|Insulin| BMI|DiabetesPedigreeFunction|Age|Outcome|\n",
      "+-----------+-----+-------------+-------------+-------+----+------------------------+---+-------+\n",
      "|          6|  148|           72|           35|      0|33.6|                   0.627| 50|      1|\n",
      "|          1|   85|           66|           29|      0|26.6|                   0.351| 31|      0|\n",
      "|          8|  183|           64|            0|      0|23.3|                   0.672| 32|      1|\n",
      "|          1|   89|           66|           23|     94|28.1|                   0.167| 21|      0|\n",
      "|          0|  137|           40|           35|    168|43.1|                   2.288| 33|      1|\n",
      "+-----------+-----+-------------+-------------+-------+----+------------------------+---+-------+\n",
      "only showing top 5 rows\n",
      "\n"
     ]
    }
   ],
   "source": [
    "df_pyspark.na.drop(how=\"all\").show(5) #It will be dropped if all values are null in a row."
   ]
  },
  {
   "cell_type": "code",
   "execution_count": 31,
   "metadata": {
    "colab": {
     "base_uri": "https://localhost:8080/"
    },
    "id": "wE5IFwVVCRG6",
    "outputId": "bb4b2e53-60c0-499b-9a23-94b2c7c8d6a9"
   },
   "outputs": [
    {
     "name": "stdout",
     "output_type": "stream",
     "text": [
      "+-----------+-----+-------------+-------------+-------+----+------------------------+---+-------+\n",
      "|Pregnancies|Sugar|BloodPressure|SkinThickness|Insulin| BMI|DiabetesPedigreeFunction|Age|Outcome|\n",
      "+-----------+-----+-------------+-------------+-------+----+------------------------+---+-------+\n",
      "|          6|  148|           72|           35|      0|33.6|                   0.627| 50|      1|\n",
      "|          1|   85|           66|           29|      0|26.6|                   0.351| 31|      0|\n",
      "|          8|  183|           64|            0|      0|23.3|                   0.672| 32|      1|\n",
      "|          1|   89|           66|           23|     94|28.1|                   0.167| 21|      0|\n",
      "|          0|  137|           40|           35|    168|43.1|                   2.288| 33|      1|\n",
      "+-----------+-----+-------------+-------------+-------+----+------------------------+---+-------+\n",
      "only showing top 5 rows\n",
      "\n"
     ]
    }
   ],
   "source": [
    "df_pyspark.na.drop(how=\"any\").show(5) #It will be dropped if a value is null in a row."
   ]
  },
  {
   "cell_type": "code",
   "execution_count": 32,
   "metadata": {
    "colab": {
     "base_uri": "https://localhost:8080/"
    },
    "id": "kkU98JDsCRLD",
    "outputId": "9232bb7b-ee6a-4ff3-a6b7-3843b5adb614"
   },
   "outputs": [
    {
     "name": "stdout",
     "output_type": "stream",
     "text": [
      "+-----------+-----+-------------+-------------+-------+----+------------------------+---+-------+\n",
      "|Pregnancies|Sugar|BloodPressure|SkinThickness|Insulin| BMI|DiabetesPedigreeFunction|Age|Outcome|\n",
      "+-----------+-----+-------------+-------------+-------+----+------------------------+---+-------+\n",
      "|          6|  148|           72|           35|      0|33.6|                   0.627| 50|      1|\n",
      "|          1|   85|           66|           29|      0|26.6|                   0.351| 31|      0|\n",
      "|          8|  183|           64|            0|      0|23.3|                   0.672| 32|      1|\n",
      "|          1|   89|           66|           23|     94|28.1|                   0.167| 21|      0|\n",
      "|          0|  137|           40|           35|    168|43.1|                   2.288| 33|      1|\n",
      "+-----------+-----+-------------+-------------+-------+----+------------------------+---+-------+\n",
      "only showing top 5 rows\n",
      "\n"
     ]
    }
   ],
   "source": [
    "df_pyspark.na.drop(how=\"any\",thresh=2).show(5) #It will be dropped if two values are null in a row."
   ]
  },
  {
   "cell_type": "code",
   "execution_count": 33,
   "metadata": {
    "colab": {
     "base_uri": "https://localhost:8080/"
    },
    "id": "tuUwsHMwCRPe",
    "outputId": "57591a2d-b820-45ec-82aa-f9b0cf214477"
   },
   "outputs": [
    {
     "name": "stdout",
     "output_type": "stream",
     "text": [
      "+-----------+-----+-------------+-------------+-------+----+------------------------+---+-------+\n",
      "|Pregnancies|Sugar|BloodPressure|SkinThickness|Insulin| BMI|DiabetesPedigreeFunction|Age|Outcome|\n",
      "+-----------+-----+-------------+-------------+-------+----+------------------------+---+-------+\n",
      "|          6|  148|           72|           35|      0|33.6|                   0.627| 50|      1|\n",
      "|          1|   85|           66|           29|      0|26.6|                   0.351| 31|      0|\n",
      "|          8|  183|           64|            0|      0|23.3|                   0.672| 32|      1|\n",
      "|          1|   89|           66|           23|     94|28.1|                   0.167| 21|      0|\n",
      "|          0|  137|           40|           35|    168|43.1|                   2.288| 33|      1|\n",
      "+-----------+-----+-------------+-------------+-------+----+------------------------+---+-------+\n",
      "only showing top 5 rows\n",
      "\n"
     ]
    }
   ],
   "source": [
    "df_pyspark.na.drop(how=\"any\",subset=[\"SkinThickness\"]).show(5) #It will be applied only to spesific column SkinThickness."
   ]
  },
  {
   "cell_type": "markdown",
   "metadata": {
    "id": "IGzTWcY5EnTW"
   },
   "source": [
    "Let's fill the missing values."
   ]
  },
  {
   "cell_type": "code",
   "execution_count": 34,
   "metadata": {
    "colab": {
     "base_uri": "https://localhost:8080/"
    },
    "id": "kJdukKhHCRUB",
    "outputId": "e10303b2-8c3c-4508-8ad0-b5496208abc2"
   },
   "outputs": [
    {
     "name": "stdout",
     "output_type": "stream",
     "text": [
      "+-----------+-----+-------------+-------------+-------+----+------------------------+---+-------+\n",
      "|Pregnancies|Sugar|BloodPressure|SkinThickness|Insulin| BMI|DiabetesPedigreeFunction|Age|Outcome|\n",
      "+-----------+-----+-------------+-------------+-------+----+------------------------+---+-------+\n",
      "|          6|  148|           72|           35|      0|33.6|                   0.627| 50|      1|\n",
      "|          1|   85|           66|           29|      0|26.6|                   0.351| 31|      0|\n",
      "|          8|  183|           64|            0|      0|23.3|                   0.672| 32|      1|\n",
      "|          1|   89|           66|           23|     94|28.1|                   0.167| 21|      0|\n",
      "|          0|  137|           40|           35|    168|43.1|                   2.288| 33|      1|\n",
      "+-----------+-----+-------------+-------------+-------+----+------------------------+---+-------+\n",
      "only showing top 5 rows\n",
      "\n"
     ]
    }
   ],
   "source": [
    "df_pyspark.na.fill(\"Missing Values\").show(5) # All na values will be filled with Missing Values."
   ]
  },
  {
   "cell_type": "code",
   "execution_count": 35,
   "metadata": {
    "colab": {
     "base_uri": "https://localhost:8080/"
    },
    "id": "vVAQ8XbjCRYd",
    "outputId": "2631cb53-8669-46bb-8114-b56ec630de6b"
   },
   "outputs": [
    {
     "name": "stdout",
     "output_type": "stream",
     "text": [
      "+-----------+-----+-------------+-------------+-------+----+------------------------+---+-------+\n",
      "|Pregnancies|Sugar|BloodPressure|SkinThickness|Insulin| BMI|DiabetesPedigreeFunction|Age|Outcome|\n",
      "+-----------+-----+-------------+-------------+-------+----+------------------------+---+-------+\n",
      "|          6|  148|           72|           35|      0|33.6|                   0.627| 50|      1|\n",
      "|          1|   85|           66|           29|      0|26.6|                   0.351| 31|      0|\n",
      "|          8|  183|           64|            0|      0|23.3|                   0.672| 32|      1|\n",
      "|          1|   89|           66|           23|     94|28.1|                   0.167| 21|      0|\n",
      "|          0|  137|           40|           35|    168|43.1|                   2.288| 33|      1|\n",
      "+-----------+-----+-------------+-------------+-------+----+------------------------+---+-------+\n",
      "only showing top 5 rows\n",
      "\n"
     ]
    }
   ],
   "source": [
    "df_pyspark.na.fill(0).show(5) # All na values will be filled with 0."
   ]
  },
  {
   "cell_type": "code",
   "execution_count": 36,
   "metadata": {
    "colab": {
     "base_uri": "https://localhost:8080/"
    },
    "id": "I742nghPCRdq",
    "outputId": "abe1702f-ac3e-4299-a490-40f6e8b40a7b"
   },
   "outputs": [
    {
     "name": "stdout",
     "output_type": "stream",
     "text": [
      "+-----------+-----+-------------+-------------+-------+----+------------------------+---+-------+\n",
      "|Pregnancies|Sugar|BloodPressure|SkinThickness|Insulin| BMI|DiabetesPedigreeFunction|Age|Outcome|\n",
      "+-----------+-----+-------------+-------------+-------+----+------------------------+---+-------+\n",
      "|          6|  148|           72|           35|      0|33.6|                   0.627| 50|      1|\n",
      "|          1|   85|           66|           29|      0|26.6|                   0.351| 31|      0|\n",
      "|          8|  183|           64|            0|      0|23.3|                   0.672| 32|      1|\n",
      "|          1|   89|           66|           23|     94|28.1|                   0.167| 21|      0|\n",
      "|          0|  137|           40|           35|    168|43.1|                   2.288| 33|      1|\n",
      "+-----------+-----+-------------+-------------+-------+----+------------------------+---+-------+\n",
      "only showing top 5 rows\n",
      "\n"
     ]
    }
   ],
   "source": [
    "df_pyspark.na.fill(\"Missing Values\",\"Insulin\").show(5) # All na values in Insulin column will be filled with Missing Values."
   ]
  },
  {
   "cell_type": "code",
   "execution_count": 37,
   "metadata": {
    "colab": {
     "base_uri": "https://localhost:8080/"
    },
    "id": "cNhehxw3CRiW",
    "outputId": "8e4a9d68-eb0c-44fd-d12c-007089cd0fec"
   },
   "outputs": [
    {
     "name": "stdout",
     "output_type": "stream",
     "text": [
      "+-----------+-----+-------------+-------------+-------+----+------------------------+---+-------+\n",
      "|Pregnancies|Sugar|BloodPressure|SkinThickness|Insulin| BMI|DiabetesPedigreeFunction|Age|Outcome|\n",
      "+-----------+-----+-------------+-------------+-------+----+------------------------+---+-------+\n",
      "|          6|  148|           72|           35|      0|33.6|                   0.627| 50|      1|\n",
      "|          1|   85|           66|           29|      0|26.6|                   0.351| 31|      0|\n",
      "|          8|  183|           64|            0|      0|23.3|                   0.672| 32|      1|\n",
      "|          1|   89|           66|           23|     94|28.1|                   0.167| 21|      0|\n",
      "|          0|  137|           40|           35|    168|43.1|                   2.288| 33|      1|\n",
      "+-----------+-----+-------------+-------------+-------+----+------------------------+---+-------+\n",
      "only showing top 5 rows\n",
      "\n"
     ]
    }
   ],
   "source": [
    "df_pyspark.na.fill(\"Missing Values\",[\"Insulin\",\"DiabetesPedigreeFunction\"]).show(5) \n",
    "# All na values in Insulin and DiabetesPedigreeFunction columns will be filled with Missing Values."
   ]
  },
  {
   "cell_type": "markdown",
   "metadata": {
    "id": "2NMMACHaFltc"
   },
   "source": [
    "Let's fill na values with statistical values."
   ]
  },
  {
   "cell_type": "code",
   "execution_count": 38,
   "metadata": {
    "id": "149ue8ieCRnB"
   },
   "outputs": [],
   "source": [
    "from pyspark.ml.feature import Imputer "
   ]
  },
  {
   "cell_type": "code",
   "execution_count": 39,
   "metadata": {
    "id": "HLkBLrJSCRsP"
   },
   "outputs": [],
   "source": [
    "imputer = Imputer(\n",
    "    inputCols=[\"BloodPressure\",\"DiabetesPedigreeFunction\",\"Age\"],\n",
    "    outputCols=[\"{}_imputed\".format(column) for column in [\"BloodPressure\",\"DiabetesPedigreeFunction\",\"Age\"]]\n",
    ").setStrategy(\"mean\")"
   ]
  },
  {
   "cell_type": "code",
   "execution_count": 40,
   "metadata": {
    "colab": {
     "base_uri": "https://localhost:8080/"
    },
    "id": "iyl_bORtCRxW",
    "outputId": "a8845cb1-2e31-4a5c-f4b3-e8ca2d655cf1"
   },
   "outputs": [
    {
     "name": "stdout",
     "output_type": "stream",
     "text": [
      "+-----------+-----+-------------+-------------+-------+----+------------------------+---+-------+---------------------+--------------------------------+-----------+\n",
      "|Pregnancies|Sugar|BloodPressure|SkinThickness|Insulin| BMI|DiabetesPedigreeFunction|Age|Outcome|BloodPressure_imputed|DiabetesPedigreeFunction_imputed|Age_imputed|\n",
      "+-----------+-----+-------------+-------------+-------+----+------------------------+---+-------+---------------------+--------------------------------+-----------+\n",
      "|          6|  148|           72|           35|      0|33.6|                   0.627| 50|      1|                   72|                           0.627|         50|\n",
      "|          1|   85|           66|           29|      0|26.6|                   0.351| 31|      0|                   66|                           0.351|         31|\n",
      "|          8|  183|           64|            0|      0|23.3|                   0.672| 32|      1|                   64|                           0.672|         32|\n",
      "|          1|   89|           66|           23|     94|28.1|                   0.167| 21|      0|                   66|                           0.167|         21|\n",
      "|          0|  137|           40|           35|    168|43.1|                   2.288| 33|      1|                   40|                           2.288|         33|\n",
      "+-----------+-----+-------------+-------------+-------+----+------------------------+---+-------+---------------------+--------------------------------+-----------+\n",
      "only showing top 5 rows\n",
      "\n"
     ]
    }
   ],
   "source": [
    "# Add imputation cols to df\n",
    "imputer.fit(df_pyspark).transform(df_pyspark).show(5)"
   ]
  },
  {
   "cell_type": "code",
   "execution_count": 41,
   "metadata": {
    "id": "LSIbrSTPCR2j"
   },
   "outputs": [],
   "source": [
    "imputer = Imputer(\n",
    "    inputCols=[\"BloodPressure\",\"DiabetesPedigreeFunction\",\"Age\"],\n",
    "    outputCols=[\"{}_imputed\".format(column) for column in [\"BloodPressure\",\"DiabetesPedigreeFunction\",\"Age\"]]\n",
    ").setStrategy(\"median\")"
   ]
  },
  {
   "cell_type": "code",
   "execution_count": 42,
   "metadata": {
    "colab": {
     "base_uri": "https://localhost:8080/"
    },
    "id": "HBAfPHMxCR7U",
    "outputId": "2f5fb770-798a-4613-82e2-9c07128da97e"
   },
   "outputs": [
    {
     "name": "stdout",
     "output_type": "stream",
     "text": [
      "+-----------+-----+-------------+-------------+-------+----+------------------------+---+-------+---------------------+--------------------------------+-----------+\n",
      "|Pregnancies|Sugar|BloodPressure|SkinThickness|Insulin| BMI|DiabetesPedigreeFunction|Age|Outcome|BloodPressure_imputed|DiabetesPedigreeFunction_imputed|Age_imputed|\n",
      "+-----------+-----+-------------+-------------+-------+----+------------------------+---+-------+---------------------+--------------------------------+-----------+\n",
      "|          6|  148|           72|           35|      0|33.6|                   0.627| 50|      1|                   72|                           0.627|         50|\n",
      "|          1|   85|           66|           29|      0|26.6|                   0.351| 31|      0|                   66|                           0.351|         31|\n",
      "|          8|  183|           64|            0|      0|23.3|                   0.672| 32|      1|                   64|                           0.672|         32|\n",
      "|          1|   89|           66|           23|     94|28.1|                   0.167| 21|      0|                   66|                           0.167|         21|\n",
      "|          0|  137|           40|           35|    168|43.1|                   2.288| 33|      1|                   40|                           2.288|         33|\n",
      "+-----------+-----+-------------+-------------+-------+----+------------------------+---+-------+---------------------+--------------------------------+-----------+\n",
      "only showing top 5 rows\n",
      "\n"
     ]
    }
   ],
   "source": [
    "# Add imputation cols to df\n",
    "imputer.fit(df_pyspark).transform(df_pyspark).show(5)"
   ]
  },
  {
   "cell_type": "markdown",
   "metadata": {
    "id": "cEPGJ2DkHVp_"
   },
   "source": [
    "# Filter Operations"
   ]
  },
  {
   "cell_type": "code",
   "execution_count": 43,
   "metadata": {
    "colab": {
     "base_uri": "https://localhost:8080/"
    },
    "id": "wZFbw6pm0YUB",
    "outputId": "61598553-009b-4ccc-c190-b4e7c7179c28"
   },
   "outputs": [
    {
     "name": "stdout",
     "output_type": "stream",
     "text": [
      "+-----------+-----+-------------+-------------+-------+----+------------------------+---+-------+\n",
      "|Pregnancies|Sugar|BloodPressure|SkinThickness|Insulin| BMI|DiabetesPedigreeFunction|Age|Outcome|\n",
      "+-----------+-----+-------------+-------------+-------+----+------------------------+---+-------+\n",
      "|          1|   85|           66|           29|      0|26.6|                   0.351| 31|      0|\n",
      "|          8|  183|           64|            0|      0|23.3|                   0.672| 32|      1|\n",
      "|          1|   89|           66|           23|     94|28.1|                   0.167| 21|      0|\n",
      "|          0|  137|           40|           35|    168|43.1|                   2.288| 33|      1|\n",
      "|          5|  116|           74|            0|      0|25.6|                   0.201| 30|      0|\n",
      "+-----------+-----+-------------+-------------+-------+----+------------------------+---+-------+\n",
      "only showing top 5 rows\n",
      "\n"
     ]
    }
   ],
   "source": [
    "# people is younger than 35 years old\n",
    "df_pyspark.filter(\"Age<=35\").show(5)"
   ]
  },
  {
   "cell_type": "code",
   "execution_count": 44,
   "metadata": {
    "colab": {
     "base_uri": "https://localhost:8080/"
    },
    "id": "c3u7GcfeMvxQ",
    "outputId": "98593302-6e9a-4c97-aa7e-e9b44d751d97"
   },
   "outputs": [
    {
     "name": "stdout",
     "output_type": "stream",
     "text": [
      "+-----------+-----+-------------+-------------+-------+----+------------------------+---+-------+\n",
      "|Pregnancies|Sugar|BloodPressure|SkinThickness|Insulin| BMI|DiabetesPedigreeFunction|Age|Outcome|\n",
      "+-----------+-----+-------------+-------------+-------+----+------------------------+---+-------+\n",
      "|          1|   85|           66|           29|      0|26.6|                   0.351| 31|      0|\n",
      "|          8|  183|           64|            0|      0|23.3|                   0.672| 32|      1|\n",
      "|          1|   89|           66|           23|     94|28.1|                   0.167| 21|      0|\n",
      "|          0|  137|           40|           35|    168|43.1|                   2.288| 33|      1|\n",
      "|          5|  116|           74|            0|      0|25.6|                   0.201| 30|      0|\n",
      "+-----------+-----+-------------+-------------+-------+----+------------------------+---+-------+\n",
      "only showing top 5 rows\n",
      "\n"
     ]
    }
   ],
   "source": [
    "# people is younger than 35 years old\n",
    "df_pyspark.filter(df_pyspark[\"Age\"]<=35).show(5)"
   ]
  },
  {
   "cell_type": "code",
   "execution_count": 45,
   "metadata": {
    "colab": {
     "base_uri": "https://localhost:8080/"
    },
    "id": "ygBgHpd7HO0R",
    "outputId": "35e00744-dc42-468e-a6c1-17034cde480f"
   },
   "outputs": [
    {
     "name": "stdout",
     "output_type": "stream",
     "text": [
      "+-----------+-----+-------------+-------------+-------+----+------------------------+---+-------+\n",
      "|Pregnancies|Sugar|BloodPressure|SkinThickness|Insulin| BMI|DiabetesPedigreeFunction|Age|Outcome|\n",
      "+-----------+-----+-------------+-------------+-------+----+------------------------+---+-------+\n",
      "|          6|  148|           72|           35|      0|33.6|                   0.627| 50|      1|\n",
      "|          8|  183|           64|            0|      0|23.3|                   0.672| 32|      1|\n",
      "|          5|  116|           74|            0|      0|25.6|                   0.201| 30|      0|\n",
      "|          3|   78|           50|           32|     88|31.0|                   0.248| 26|      1|\n",
      "|         10|  115|            0|            0|      0|35.3|                   0.134| 29|      0|\n",
      "+-----------+-----+-------------+-------------+-------+----+------------------------+---+-------+\n",
      "only showing top 5 rows\n",
      "\n"
     ]
    }
   ],
   "source": [
    "# people has more than 2 pregnancies\n",
    "df_pyspark.filter(\"Pregnancies>2\").show(5)"
   ]
  },
  {
   "cell_type": "code",
   "execution_count": 46,
   "metadata": {
    "colab": {
     "base_uri": "https://localhost:8080/"
    },
    "id": "WHpPcseUHO5N",
    "outputId": "ee116cfc-a9e2-4889-bdf5-90d7f8cac979"
   },
   "outputs": [
    {
     "name": "stdout",
     "output_type": "stream",
     "text": [
      "+-------+---+\n",
      "|Insulin|Age|\n",
      "+-------+---+\n",
      "|      0| 50|\n",
      "|      0| 32|\n",
      "|      0| 30|\n",
      "|     88| 26|\n",
      "|      0| 29|\n",
      "+-------+---+\n",
      "only showing top 5 rows\n",
      "\n"
     ]
    }
   ],
   "source": [
    "df_pyspark.filter(\"Pregnancies>2\").select([\"Insulin\",\"Age\"]).show(5)"
   ]
  },
  {
   "cell_type": "code",
   "execution_count": 47,
   "metadata": {
    "colab": {
     "base_uri": "https://localhost:8080/"
    },
    "id": "mYCFSSr3HO95",
    "outputId": "cd12581d-8b85-493a-9d7e-774c850f7a35"
   },
   "outputs": [
    {
     "name": "stdout",
     "output_type": "stream",
     "text": [
      "+-----------+-----+-------------+-------------+-------+----+------------------------+---+-------+\n",
      "|Pregnancies|Sugar|BloodPressure|SkinThickness|Insulin| BMI|DiabetesPedigreeFunction|Age|Outcome|\n",
      "+-----------+-----+-------------+-------------+-------+----+------------------------+---+-------+\n",
      "|          0|  180|           66|           39|      0|42.0|                   1.893| 25|      1|\n",
      "|          0|   95|           85|           25|     36|37.4|                   0.247| 24|      1|\n",
      "|          3|  171|           72|           33|    135|33.3|                   0.199| 24|      1|\n",
      "|          0|  162|           76|           56|    100|53.2|                   0.759| 25|      1|\n",
      "|          0|  113|           76|            0|      0|33.3|                   0.278| 23|      1|\n",
      "+-----------+-----+-------------+-------------+-------+----+------------------------+---+-------+\n",
      "only showing top 5 rows\n",
      "\n"
     ]
    }
   ],
   "source": [
    "# people is younger than 25 years old and has diabetes (with & operator)\n",
    "df_pyspark.filter((df_pyspark[\"Age\"]<=25) & \n",
    "                  (df_pyspark[\"Outcome\"]==1)).show(5)"
   ]
  },
  {
   "cell_type": "code",
   "execution_count": 48,
   "metadata": {
    "colab": {
     "base_uri": "https://localhost:8080/"
    },
    "id": "RiEjluYMHPCu",
    "outputId": "3375c51a-23d7-467e-c3c8-de15516a1a92"
   },
   "outputs": [
    {
     "name": "stdout",
     "output_type": "stream",
     "text": [
      "+-----------+-----+-------------+-------------+-------+----+------------------------+---+-------+\n",
      "|Pregnancies|Sugar|BloodPressure|SkinThickness|Insulin| BMI|DiabetesPedigreeFunction|Age|Outcome|\n",
      "+-----------+-----+-------------+-------------+-------+----+------------------------+---+-------+\n",
      "|          6|  148|           72|           35|      0|33.6|                   0.627| 50|      1|\n",
      "|          8|  183|           64|            0|      0|23.3|                   0.672| 32|      1|\n",
      "|          1|   89|           66|           23|     94|28.1|                   0.167| 21|      0|\n",
      "|          0|  137|           40|           35|    168|43.1|                   2.288| 33|      1|\n",
      "|          3|   78|           50|           32|     88|31.0|                   0.248| 26|      1|\n",
      "+-----------+-----+-------------+-------------+-------+----+------------------------+---+-------+\n",
      "only showing top 5 rows\n",
      "\n"
     ]
    }
   ],
   "source": [
    "# people is younger than 25 years old or has diabetes(with | operator)\n",
    "df_pyspark.filter((df_pyspark[\"Age\"]<=25) | \n",
    "                  (df_pyspark[\"Outcome\"]==1)).show(5)"
   ]
  },
  {
   "cell_type": "code",
   "execution_count": 49,
   "metadata": {
    "colab": {
     "base_uri": "https://localhost:8080/"
    },
    "id": "b-4hjef7HPHo",
    "outputId": "01e2b178-eb5c-4dc7-f3dc-7fec0c2dc87e"
   },
   "outputs": [
    {
     "name": "stdout",
     "output_type": "stream",
     "text": [
      "+-----------+-----+-------------+-------------+-------+----+------------------------+---+-------+\n",
      "|Pregnancies|Sugar|BloodPressure|SkinThickness|Insulin| BMI|DiabetesPedigreeFunction|Age|Outcome|\n",
      "+-----------+-----+-------------+-------------+-------+----+------------------------+---+-------+\n",
      "|          1|   85|           66|           29|      0|26.6|                   0.351| 31|      0|\n",
      "|          1|   89|           66|           23|     94|28.1|                   0.167| 21|      0|\n",
      "|          0|  137|           40|           35|    168|43.1|                   2.288| 33|      1|\n",
      "|          2|  197|           70|           45|    543|30.5|                   0.158| 53|      1|\n",
      "|          1|  189|           60|           23|    846|30.1|                   0.398| 59|      1|\n",
      "+-----------+-----+-------------+-------------+-------+----+------------------------+---+-------+\n",
      "only showing top 5 rows\n",
      "\n"
     ]
    }
   ],
   "source": [
    "# people has not more than 2 pregnancies (with ~ operator)\n",
    "df_pyspark.filter(~ (df_pyspark[\"Pregnancies\"]>2)).show(5)"
   ]
  },
  {
   "cell_type": "markdown",
   "metadata": {
    "id": "YNENv1VXOBh4"
   },
   "source": [
    "# GroupBy and Aggregates"
   ]
  },
  {
   "cell_type": "code",
   "execution_count": 50,
   "metadata": {
    "colab": {
     "base_uri": "https://localhost:8080/"
    },
    "id": "M0QMr8WgHPMU",
    "outputId": "64867f31-4d2f-4301-c6d0-1db79a240127"
   },
   "outputs": [
    {
     "name": "stdout",
     "output_type": "stream",
     "text": [
      "+-----------+-----+-------------+-------------+-------+----+------------------------+---+-------+\n",
      "|Pregnancies|Sugar|BloodPressure|SkinThickness|Insulin| BMI|DiabetesPedigreeFunction|Age|Outcome|\n",
      "+-----------+-----+-------------+-------------+-------+----+------------------------+---+-------+\n",
      "|          6|  148|           72|           35|      0|33.6|                   0.627| 50|      1|\n",
      "|          1|   85|           66|           29|      0|26.6|                   0.351| 31|      0|\n",
      "|          8|  183|           64|            0|      0|23.3|                   0.672| 32|      1|\n",
      "|          1|   89|           66|           23|     94|28.1|                   0.167| 21|      0|\n",
      "|          0|  137|           40|           35|    168|43.1|                   2.288| 33|      1|\n",
      "+-----------+-----+-------------+-------------+-------+----+------------------------+---+-------+\n",
      "only showing top 5 rows\n",
      "\n"
     ]
    }
   ],
   "source": [
    "df_pyspark.show(5)"
   ]
  },
  {
   "cell_type": "markdown",
   "metadata": {
    "id": "mfeqYRV2OfDE"
   },
   "source": [
    "## GroupBy"
   ]
  },
  {
   "cell_type": "code",
   "execution_count": 51,
   "metadata": {
    "colab": {
     "base_uri": "https://localhost:8080/"
    },
    "id": "6NEYcpMgHPQ4",
    "outputId": "d535563b-0172-42e7-f4a0-e496b5ea7149"
   },
   "outputs": [
    {
     "name": "stdout",
     "output_type": "stream",
     "text": [
      "+-------+-----------------+\n",
      "|Outcome|         avg(Age)|\n",
      "+-------+-----------------+\n",
      "|      0|            31.19|\n",
      "|      1|37.06716417910448|\n",
      "+-------+-----------------+\n",
      "\n"
     ]
    }
   ],
   "source": [
    "#Mean age by Diabete status\n",
    "df_pyspark.groupBy(\"Outcome\").mean(\"Age\").show()"
   ]
  },
  {
   "cell_type": "code",
   "execution_count": 52,
   "metadata": {
    "colab": {
     "base_uri": "https://localhost:8080/"
    },
    "id": "ULiX5wBgHPVb",
    "outputId": "6d5cb406-02d6-43c8-981a-fabeb33b6aa7"
   },
   "outputs": [
    {
     "name": "stdout",
     "output_type": "stream",
     "text": [
      "+---+----------------+\n",
      "|Age|max(Pregnancies)|\n",
      "+---+----------------+\n",
      "| 21|               4|\n",
      "| 22|               8|\n",
      "| 23|               6|\n",
      "| 24|               7|\n",
      "| 25|               5|\n",
      "+---+----------------+\n",
      "only showing top 5 rows\n",
      "\n"
     ]
    }
   ],
   "source": [
    "#Max Pregnancies by Age\n",
    "df_pyspark.groupBy(\"Age\").max(\"Pregnancies\").sort(df_pyspark[\"Age\"].asc()).show(5)"
   ]
  },
  {
   "cell_type": "code",
   "execution_count": 53,
   "metadata": {
    "colab": {
     "base_uri": "https://localhost:8080/"
    },
    "id": "_NQwTk6GHPaH",
    "outputId": "1730f0cc-a5d1-40d7-8f3f-cd92efa3f806"
   },
   "outputs": [
    {
     "name": "stdout",
     "output_type": "stream",
     "text": [
      "+-------+--------+\n",
      "|Outcome|max(BMI)|\n",
      "+-------+--------+\n",
      "|      0|    57.3|\n",
      "|      1|    67.1|\n",
      "+-------+--------+\n",
      "\n"
     ]
    }
   ],
   "source": [
    "#Max BMI by Diabete status\n",
    "df_pyspark.groupBy(\"Outcome\").max(\"BMI\").show()"
   ]
  },
  {
   "cell_type": "code",
   "execution_count": 54,
   "metadata": {
    "colab": {
     "base_uri": "https://localhost:8080/"
    },
    "id": "CjmAiY_VHPe1",
    "outputId": "1f54be28-3ce2-43bc-b41e-8bae01d363b2"
   },
   "outputs": [
    {
     "name": "stdout",
     "output_type": "stream",
     "text": [
      "+-------+-----+\n",
      "|Outcome|count|\n",
      "+-------+-----+\n",
      "|      0|  500|\n",
      "|      1|  268|\n",
      "+-------+-----+\n",
      "\n"
     ]
    }
   ],
   "source": [
    "#People Count by Diabete status\n",
    "df_pyspark.groupBy(\"Outcome\").count().show()"
   ]
  },
  {
   "cell_type": "code",
   "execution_count": 55,
   "metadata": {
    "colab": {
     "base_uri": "https://localhost:8080/"
    },
    "id": "wrtwnNtNHPj6",
    "outputId": "4c0f79b2-6530-4ae8-f28e-e4686644ccf9"
   },
   "outputs": [
    {
     "name": "stdout",
     "output_type": "stream",
     "text": [
      "+------------------+\n",
      "|          avg(Age)|\n",
      "+------------------+\n",
      "|33.240885416666664|\n",
      "+------------------+\n",
      "\n"
     ]
    }
   ],
   "source": [
    "# We can also do with agg function\n",
    "df_pyspark.agg({\"Age\":\"mean\"}).show()"
   ]
  },
  {
   "cell_type": "code",
   "execution_count": 56,
   "metadata": {
    "colab": {
     "base_uri": "https://localhost:8080/"
    },
    "id": "hauY5IzGRTmz",
    "outputId": "4c39aa74-b81c-4ce5-9c00-354ed1bcecc8"
   },
   "outputs": [
    {
     "name": "stdout",
     "output_type": "stream",
     "text": [
      "+--------+\n",
      "|max(Age)|\n",
      "+--------+\n",
      "|      81|\n",
      "+--------+\n",
      "\n"
     ]
    }
   ],
   "source": [
    "df_pyspark.agg({\"Age\":\"max\"}).show()"
   ]
  },
  {
   "cell_type": "code",
   "execution_count": 57,
   "metadata": {
    "colab": {
     "base_uri": "https://localhost:8080/"
    },
    "id": "mM-Uq71ERTq_",
    "outputId": "cebceff2-8c8f-4e20-bc65-e8fa4a9c6bed"
   },
   "outputs": [
    {
     "name": "stdout",
     "output_type": "stream",
     "text": [
      "+--------+\n",
      "|min(Age)|\n",
      "+--------+\n",
      "|      21|\n",
      "+--------+\n",
      "\n"
     ]
    }
   ],
   "source": [
    "df_pyspark.agg({\"Age\":\"min\"}).show()"
   ]
  },
  {
   "cell_type": "code",
   "execution_count": 58,
   "metadata": {
    "colab": {
     "base_uri": "https://localhost:8080/"
    },
    "id": "KLuzqYQLRTu4",
    "outputId": "97784f7e-3ff1-48f0-9bf2-773e98a7f512"
   },
   "outputs": [
    {
     "name": "stdout",
     "output_type": "stream",
     "text": [
      "+------------------+\n",
      "|       stddev(Age)|\n",
      "+------------------+\n",
      "|11.760231540678689|\n",
      "+------------------+\n",
      "\n"
     ]
    }
   ],
   "source": [
    "df_pyspark.agg({\"Age\":\"std\"}).show()"
   ]
  },
  {
   "cell_type": "markdown",
   "metadata": {
    "id": "61rk3Y8rStR0"
   },
   "source": [
    "# Linear Regression with MlLib"
   ]
  },
  {
   "cell_type": "code",
   "execution_count": 59,
   "metadata": {
    "id": "FL07tMMoRT31"
   },
   "outputs": [
    {
     "name": "stdout",
     "output_type": "stream",
     "text": [
      "23/01/31 03:01:10 WARN SparkSession: Using an existing Spark session; only runtime SQL configurations will take effect.\n"
     ]
    }
   ],
   "source": [
    "hr_df = pd.read_csv(\"https://raw.githubusercontent.com/berkayalan/datasets/main/Mall_Customers.csv\")\n",
    "spark = SparkSession.builder.appName(\"HRDF\").getOrCreate()\n",
    "hr_df_pyspark =  spark.createDataFrame(hr_df)"
   ]
  },
  {
   "cell_type": "code",
   "execution_count": 60,
   "metadata": {
    "colab": {
     "base_uri": "https://localhost:8080/"
    },
    "id": "Lc_0wsY9RT8y",
    "outputId": "e9c18372-9616-46c3-835b-1448bf362aa3"
   },
   "outputs": [
    {
     "name": "stderr",
     "output_type": "stream",
     "text": [
      "\r",
      "[Stage 77:>                                                         (0 + 1) / 1]\r"
     ]
    },
    {
     "name": "stdout",
     "output_type": "stream",
     "text": [
      "+----------+------+---+------------------+----------------------+\n",
      "|CustomerID| Genre|Age|Annual Income (k$)|Spending Score (1-100)|\n",
      "+----------+------+---+------------------+----------------------+\n",
      "|         1|  Male| 19|                15|                    39|\n",
      "|         2|  Male| 21|                15|                    81|\n",
      "|         3|Female| 20|                16|                     6|\n",
      "|         4|Female| 23|                16|                    77|\n",
      "|         5|Female| 31|                17|                    40|\n",
      "+----------+------+---+------------------+----------------------+\n",
      "only showing top 5 rows\n",
      "\n"
     ]
    },
    {
     "name": "stderr",
     "output_type": "stream",
     "text": [
      "\r",
      "                                                                                \r"
     ]
    }
   ],
   "source": [
    "hr_df_pyspark.show(5)"
   ]
  },
  {
   "cell_type": "code",
   "execution_count": 61,
   "metadata": {
    "colab": {
     "base_uri": "https://localhost:8080/"
    },
    "id": "6xOuccY4u0jz",
    "outputId": "5b2f5c5d-e6ac-456e-d516-b6a3f0b259ef"
   },
   "outputs": [
    {
     "name": "stdout",
     "output_type": "stream",
     "text": [
      "(200, 5)\n"
     ]
    }
   ],
   "source": [
    "#check the size\n",
    "print((hr_df_pyspark.count(), len(hr_df_pyspark.columns)))"
   ]
  },
  {
   "cell_type": "markdown",
   "metadata": {
    "id": "Z6iyXAAotQVz"
   },
   "source": [
    "We will predict Annual Income (k$) of each customer."
   ]
  },
  {
   "cell_type": "markdown",
   "metadata": {
    "id": "qvgwm8bUVUfQ"
   },
   "source": [
    "Let's do one hot encoding."
   ]
  },
  {
   "cell_type": "code",
   "execution_count": 62,
   "metadata": {
    "id": "UPzBEh00VY4E"
   },
   "outputs": [],
   "source": [
    "from pyspark.ml.feature import StringIndexer"
   ]
  },
  {
   "cell_type": "code",
   "execution_count": 63,
   "metadata": {
    "colab": {
     "base_uri": "https://localhost:8080/"
    },
    "id": "8dSeGbwbHPok",
    "outputId": "0dc41aaf-36a2-4347-b5c6-1c399f208d6c"
   },
   "outputs": [
    {
     "name": "stdout",
     "output_type": "stream",
     "text": [
      "+----------+------+---+------------------+----------------------+-------------+\n",
      "|CustomerID| Genre|Age|Annual Income (k$)|Spending Score (1-100)|Genre_Numeric|\n",
      "+----------+------+---+------------------+----------------------+-------------+\n",
      "|         1|  Male| 19|                15|                    39|          1.0|\n",
      "|         2|  Male| 21|                15|                    81|          1.0|\n",
      "|         3|Female| 20|                16|                     6|          0.0|\n",
      "|         4|Female| 23|                16|                    77|          0.0|\n",
      "|         5|Female| 31|                17|                    40|          0.0|\n",
      "+----------+------+---+------------------+----------------------+-------------+\n",
      "only showing top 5 rows\n",
      "\n"
     ]
    }
   ],
   "source": [
    "indexer = StringIndexer(inputCol='Genre', outputCol='Genre_Numeric')\n",
    "indexer_fitted = indexer.fit(hr_df_pyspark)\n",
    "hr_df_indexed = indexer_fitted.transform(hr_df_pyspark)\n",
    "hr_df_indexed.show(5)"
   ]
  },
  {
   "cell_type": "code",
   "execution_count": null,
   "metadata": {
    "id": "dpYxJSUdVTK6"
   },
   "outputs": [],
   "source": [
    "hr_df_indexed = hr_df_indexed.drop(\"Genre\")"
   ]
  },
  {
   "cell_type": "code",
   "execution_count": 64,
   "metadata": {
    "colab": {
     "base_uri": "https://localhost:8080/"
    },
    "id": "42lbzuMvVTV4",
    "outputId": "dcf24825-ebaf-4b48-b29f-3268a57b170c"
   },
   "outputs": [
    {
     "name": "stdout",
     "output_type": "stream",
     "text": [
      "+----------+------+---+------------------+----------------------+-------------+\n",
      "|CustomerID| Genre|Age|Annual Income (k$)|Spending Score (1-100)|Genre_Numeric|\n",
      "+----------+------+---+------------------+----------------------+-------------+\n",
      "|         1|  Male| 19|                15|                    39|          1.0|\n",
      "|         2|  Male| 21|                15|                    81|          1.0|\n",
      "|         3|Female| 20|                16|                     6|          0.0|\n",
      "+----------+------+---+------------------+----------------------+-------------+\n",
      "only showing top 3 rows\n",
      "\n"
     ]
    }
   ],
   "source": [
    "hr_df_indexed.show(3)"
   ]
  },
  {
   "cell_type": "code",
   "execution_count": 65,
   "metadata": {
    "colab": {
     "base_uri": "https://localhost:8080/"
    },
    "id": "9FkL9bo-VTaC",
    "outputId": "43c9051a-603a-4250-97b6-8cfca0223642"
   },
   "outputs": [
    {
     "name": "stdout",
     "output_type": "stream",
     "text": [
      "root\n",
      " |-- CustomerID: long (nullable = true)\n",
      " |-- Genre: string (nullable = true)\n",
      " |-- Age: long (nullable = true)\n",
      " |-- Annual Income (k$): long (nullable = true)\n",
      " |-- Spending Score (1-100): long (nullable = true)\n",
      " |-- Genre_Numeric: double (nullable = false)\n",
      "\n"
     ]
    }
   ],
   "source": [
    "hr_df_indexed.printSchema()"
   ]
  },
  {
   "cell_type": "code",
   "execution_count": 66,
   "metadata": {
    "colab": {
     "base_uri": "https://localhost:8080/"
    },
    "id": "DqqjvG6CVTeA",
    "outputId": "150f0eaf-70e6-4cdb-d629-3405659b8168"
   },
   "outputs": [
    {
     "data": {
      "text/plain": [
       "['CustomerID',\n",
       " 'Genre',\n",
       " 'Age',\n",
       " 'Annual Income (k$)',\n",
       " 'Spending Score (1-100)',\n",
       " 'Genre_Numeric']"
      ]
     },
     "execution_count": 66,
     "metadata": {},
     "output_type": "execute_result"
    }
   ],
   "source": [
    "hr_df_indexed.columns"
   ]
  },
  {
   "cell_type": "markdown",
   "metadata": {
    "id": "yOmyXSNBs5J6"
   },
   "source": [
    "We need to give our features by using VectorAssembler."
   ]
  },
  {
   "cell_type": "code",
   "execution_count": 67,
   "metadata": {
    "id": "RD2025HOVThr"
   },
   "outputs": [],
   "source": [
    "from pyspark.ml.feature import VectorAssembler"
   ]
  },
  {
   "cell_type": "code",
   "execution_count": 68,
   "metadata": {
    "id": "oZxRrjQmVTlq"
   },
   "outputs": [],
   "source": [
    "feature_assembler = VectorAssembler(inputCols=[\"CustomerID\",\"Age\",\"Spending Score (1-100)\",\"Genre_Numeric\"],\n",
    "                                    outputCol=\"Independent Features\")"
   ]
  },
  {
   "cell_type": "code",
   "execution_count": 69,
   "metadata": {
    "id": "RmGmaFH5VTpr"
   },
   "outputs": [],
   "source": [
    "output = feature_assembler.transform(hr_df_indexed)"
   ]
  },
  {
   "cell_type": "code",
   "execution_count": 70,
   "metadata": {
    "colab": {
     "base_uri": "https://localhost:8080/"
    },
    "id": "4--TDFsOVTtv",
    "outputId": "e7fc95e3-184a-4c4d-a76d-f55989f8575f"
   },
   "outputs": [
    {
     "name": "stdout",
     "output_type": "stream",
     "text": [
      "+----------+------+---+------------------+----------------------+-------------+--------------------+\n",
      "|CustomerID| Genre|Age|Annual Income (k$)|Spending Score (1-100)|Genre_Numeric|Independent Features|\n",
      "+----------+------+---+------------------+----------------------+-------------+--------------------+\n",
      "|         1|  Male| 19|                15|                    39|          1.0| [1.0,19.0,39.0,1.0]|\n",
      "|         2|  Male| 21|                15|                    81|          1.0| [2.0,21.0,81.0,1.0]|\n",
      "|         3|Female| 20|                16|                     6|          0.0|  [3.0,20.0,6.0,0.0]|\n",
      "|         4|Female| 23|                16|                    77|          0.0| [4.0,23.0,77.0,0.0]|\n",
      "|         5|Female| 31|                17|                    40|          0.0| [5.0,31.0,40.0,0.0]|\n",
      "+----------+------+---+------------------+----------------------+-------------+--------------------+\n",
      "only showing top 5 rows\n",
      "\n"
     ]
    }
   ],
   "source": [
    "output.show(5)"
   ]
  },
  {
   "cell_type": "code",
   "execution_count": 71,
   "metadata": {
    "id": "iTkwcQ1fuM2z"
   },
   "outputs": [],
   "source": [
    "final_data = output.select(\"Independent Features\",\"Annual Income (k$)\")"
   ]
  },
  {
   "cell_type": "code",
   "execution_count": 72,
   "metadata": {
    "colab": {
     "base_uri": "https://localhost:8080/"
    },
    "id": "V_VDw_-3uM9L",
    "outputId": "eee09671-81f3-4c83-e5d9-ef1504c28680"
   },
   "outputs": [
    {
     "name": "stdout",
     "output_type": "stream",
     "text": [
      "+--------------------+------------------+\n",
      "|Independent Features|Annual Income (k$)|\n",
      "+--------------------+------------------+\n",
      "| [1.0,19.0,39.0,1.0]|                15|\n",
      "| [2.0,21.0,81.0,1.0]|                15|\n",
      "|  [3.0,20.0,6.0,0.0]|                16|\n",
      "| [4.0,23.0,77.0,0.0]|                16|\n",
      "| [5.0,31.0,40.0,0.0]|                17|\n",
      "+--------------------+------------------+\n",
      "only showing top 5 rows\n",
      "\n"
     ]
    }
   ],
   "source": [
    "final_data.show(5)"
   ]
  },
  {
   "cell_type": "code",
   "execution_count": 73,
   "metadata": {
    "id": "ueXL7MIFuNDB"
   },
   "outputs": [],
   "source": [
    "from pyspark.ml.regression import LinearRegression"
   ]
  },
  {
   "cell_type": "code",
   "execution_count": 74,
   "metadata": {
    "id": "AB5DxCOduNIN"
   },
   "outputs": [],
   "source": [
    "#train test split\n",
    "train_data, test_data = final_data.randomSplit([0.80,0.20])"
   ]
  },
  {
   "cell_type": "code",
   "execution_count": 75,
   "metadata": {
    "id": "0v8Nn4RsuNNb"
   },
   "outputs": [],
   "source": [
    "regressor = LinearRegression(featuresCol=\"Independent Features\",\n",
    "                             labelCol=\"Annual Income (k$)\")"
   ]
  },
  {
   "cell_type": "code",
   "execution_count": 76,
   "metadata": {
    "id": "ZKK8brrRuNSo"
   },
   "outputs": [
    {
     "name": "stdout",
     "output_type": "stream",
     "text": [
      "23/01/31 03:01:23 WARN Instrumentation: [1e9c8b06] regParam is zero, which might cause numerical instability and overfitting.\n",
      "23/01/31 03:01:23 WARN InstanceBuilder$JavaBLAS: Failed to load implementation from:dev.ludovic.netlib.blas.VectorBLAS\n",
      "23/01/31 03:01:23 WARN InstanceBuilder$NativeBLAS: Failed to load implementation from:dev.ludovic.netlib.blas.JNIBLAS\n",
      "23/01/31 03:01:23 WARN InstanceBuilder$NativeBLAS: Failed to load implementation from:dev.ludovic.netlib.blas.ForeignLinkerBLAS\n",
      "23/01/31 03:01:23 WARN InstanceBuilder$NativeLAPACK: Failed to load implementation from:dev.ludovic.netlib.lapack.JNILAPACK\n"
     ]
    }
   ],
   "source": [
    "regressor = regressor.fit(train_data)"
   ]
  },
  {
   "cell_type": "code",
   "execution_count": 77,
   "metadata": {
    "colab": {
     "base_uri": "https://localhost:8080/"
    },
    "id": "BOI6SxjWuNXY",
    "outputId": "af66ccf4-289d-4f43-dbd1-e7a2313f401c"
   },
   "outputs": [
    {
     "data": {
      "text/plain": [
       "DenseVector([0.4403, 0.0245, -0.016, -0.2192])"
      ]
     },
     "execution_count": 77,
     "metadata": {},
     "output_type": "execute_result"
    }
   ],
   "source": [
    "# Coefficients\n",
    "regressor.coefficients"
   ]
  },
  {
   "cell_type": "code",
   "execution_count": 78,
   "metadata": {
    "colab": {
     "base_uri": "https://localhost:8080/"
    },
    "id": "ACLsPo5nVTxZ",
    "outputId": "05bbe771-e74e-4772-ef33-1a8aed27ef25"
   },
   "outputs": [
    {
     "data": {
      "text/plain": [
       "16.062025598770976"
      ]
     },
     "execution_count": 78,
     "metadata": {},
     "output_type": "execute_result"
    }
   ],
   "source": [
    "# Intercept\n",
    "regressor.intercept"
   ]
  },
  {
   "cell_type": "code",
   "execution_count": 79,
   "metadata": {
    "id": "8MO85lYs0YYR"
   },
   "outputs": [],
   "source": [
    "# Prediction\n",
    "preds = regressor.evaluate(test_data)"
   ]
  },
  {
   "cell_type": "code",
   "execution_count": 80,
   "metadata": {
    "colab": {
     "base_uri": "https://localhost:8080/"
    },
    "id": "9VCF1XYf0Wzo",
    "outputId": "a319e47a-c1c2-46dc-f156-89c614ac0e2e"
   },
   "outputs": [
    {
     "name": "stdout",
     "output_type": "stream",
     "text": [
      "+--------------------+------------------+------------------+\n",
      "|Independent Features|Annual Income (k$)|        prediction|\n",
      "+--------------------+------------------+------------------+\n",
      "| [1.0,19.0,39.0,1.0]|                15|16.124504263412124|\n",
      "| [5.0,31.0,40.0,0.0]|                17|18.383402818931845|\n",
      "| [6.0,22.0,76.0,0.0]|                17| 18.02581991440024|\n",
      "|  [7.0,35.0,6.0,0.0]|                18| 19.90704285789776|\n",
      "|[11.0,67.0,14.0,1.0]|                19|22.106301560879082|\n",
      "|[16.0,22.0,79.0,1.0]|                20|22.161364329708753|\n",
      "|[22.0,25.0,73.0,1.0]|                24|24.972864780103386|\n",
      "| [23.0,46.0,5.0,0.0]|                25| 27.23763380836487|\n",
      "|[26.0,29.0,82.0,1.0]|                28|26.687958355947167|\n",
      "|[27.0,45.0,32.0,0.0]|                28|28.541520109284782|\n",
      "|[35.0,49.0,14.0,0.0]|                33|32.450446271389595|\n",
      "|[36.0,21.0,81.0,0.0]|                33| 31.12964398911806|\n",
      "|[40.0,20.0,75.0,0.0]|                37|32.962384643247475|\n",
      "|[42.0,24.0,92.0,1.0]|                38| 33.44949247694768|\n",
      "|[45.0,49.0,28.0,0.0]|                39| 36.62891774350958|\n",
      "|[54.0,59.0,60.0,1.0]|                43| 40.10491049923834|\n",
      "|[56.0,47.0,41.0,1.0]|                43| 40.99539015077288|\n",
      "|[57.0,51.0,50.0,0.0]|                44| 41.60884539033228|\n",
      "|[59.0,27.0,51.0,0.0]|                46|  41.8842282182453|\n",
      "|[61.0,70.0,56.0,1.0]|                46| 43.52102858568197|\n",
      "+--------------------+------------------+------------------+\n",
      "only showing top 20 rows\n",
      "\n"
     ]
    }
   ],
   "source": [
    "preds.predictions.show()"
   ]
  },
  {
   "cell_type": "code",
   "execution_count": 81,
   "metadata": {
    "colab": {
     "base_uri": "https://localhost:8080/"
    },
    "id": "uBa6hhSF0T6W",
    "outputId": "5ea13811-b8a7-449b-d15a-4725a8de7e5a"
   },
   "outputs": [
    {
     "data": {
      "text/plain": [
       "3.385043389287314"
      ]
     },
     "execution_count": 81,
     "metadata": {},
     "output_type": "execute_result"
    }
   ],
   "source": [
    "preds.meanAbsoluteError"
   ]
  },
  {
   "cell_type": "code",
   "execution_count": 82,
   "metadata": {
    "colab": {
     "base_uri": "https://localhost:8080/"
    },
    "id": "orojPJykwNtW",
    "outputId": "8ea2333b-c428-4ece-dfcf-494515a7a6b8"
   },
   "outputs": [
    {
     "data": {
      "text/plain": [
       "36.466419598990434"
      ]
     },
     "execution_count": 82,
     "metadata": {},
     "output_type": "execute_result"
    }
   ],
   "source": [
    "preds.meanSquaredError"
   ]
  },
  {
   "cell_type": "markdown",
   "metadata": {},
   "source": [
    "# Multilinear Regression with MlLib"
   ]
  },
  {
   "cell_type": "code",
   "execution_count": 83,
   "metadata": {},
   "outputs": [
    {
     "name": "stdout",
     "output_type": "stream",
     "text": [
      "23/01/31 03:01:27 WARN SparkSession: Using an existing Spark session; only runtime SQL configurations will take effect.\n"
     ]
    }
   ],
   "source": [
    "tips_df = pd.read_csv(\"https://raw.githubusercontent.com/berkayalan/datasets/main/tips.csv\")\n",
    "spark = SparkSession.builder.appName(\"Tips\").getOrCreate()\n",
    "tips_pyspark =  spark.createDataFrame(tips_df)"
   ]
  },
  {
   "cell_type": "code",
   "execution_count": 84,
   "metadata": {},
   "outputs": [
    {
     "data": {
      "text/html": [
       "\n",
       "            <div>\n",
       "                <p><b>SparkSession - in-memory</b></p>\n",
       "                \n",
       "        <div>\n",
       "            <p><b>SparkContext</b></p>\n",
       "\n",
       "            <p><a href=\"http://macbook-pro:4040\">Spark UI</a></p>\n",
       "\n",
       "            <dl>\n",
       "              <dt>Version</dt>\n",
       "                <dd><code>v3.3.0</code></dd>\n",
       "              <dt>Master</dt>\n",
       "                <dd><code>local[*]</code></dd>\n",
       "              <dt>AppName</dt>\n",
       "                <dd><code>Practise</code></dd>\n",
       "            </dl>\n",
       "        </div>\n",
       "        \n",
       "            </div>\n",
       "        "
      ],
      "text/plain": [
       "<pyspark.sql.session.SparkSession at 0x7fc6f898db20>"
      ]
     },
     "execution_count": 84,
     "metadata": {},
     "output_type": "execute_result"
    }
   ],
   "source": [
    "spark"
   ]
  },
  {
   "cell_type": "code",
   "execution_count": 85,
   "metadata": {},
   "outputs": [
    {
     "name": "stdout",
     "output_type": "stream",
     "text": [
      "+----------+----+------+------+---+------+----+\n",
      "|total_bill| tip|   sex|smoker|day|  time|size|\n",
      "+----------+----+------+------+---+------+----+\n",
      "|     16.99|1.01|Female|    No|Sun|Dinner|   2|\n",
      "|     10.34|1.66|  Male|    No|Sun|Dinner|   3|\n",
      "|     21.01| 3.5|  Male|    No|Sun|Dinner|   3|\n",
      "|     23.68|3.31|  Male|    No|Sun|Dinner|   2|\n",
      "|     24.59|3.61|Female|    No|Sun|Dinner|   4|\n",
      "+----------+----+------+------+---+------+----+\n",
      "only showing top 5 rows\n",
      "\n"
     ]
    }
   ],
   "source": [
    "tips_pyspark.show(5)"
   ]
  },
  {
   "cell_type": "code",
   "execution_count": 86,
   "metadata": {},
   "outputs": [
    {
     "name": "stdout",
     "output_type": "stream",
     "text": [
      "(244, 7)\n"
     ]
    }
   ],
   "source": [
    "#check the size\n",
    "print((tips_pyspark.count(), len(tips_pyspark.columns)))"
   ]
  },
  {
   "cell_type": "markdown",
   "metadata": {},
   "source": [
    "The rows can also be shown vertically. This is useful when rows are too long to show horizontally."
   ]
  },
  {
   "cell_type": "code",
   "execution_count": 87,
   "metadata": {},
   "outputs": [
    {
     "name": "stdout",
     "output_type": "stream",
     "text": [
      "-RECORD 0------------\n",
      " total_bill | 16.99  \n",
      " tip        | 1.01   \n",
      " sex        | Female \n",
      " smoker     | No     \n",
      " day        | Sun    \n",
      " time       | Dinner \n",
      " size       | 2      \n",
      "-RECORD 1------------\n",
      " total_bill | 10.34  \n",
      " tip        | 1.66   \n",
      " sex        | Male   \n",
      " smoker     | No     \n",
      " day        | Sun    \n",
      " time       | Dinner \n",
      " size       | 3      \n",
      "-RECORD 2------------\n",
      " total_bill | 21.01  \n",
      " tip        | 3.5    \n",
      " sex        | Male   \n",
      " smoker     | No     \n",
      " day        | Sun    \n",
      " time       | Dinner \n",
      " size       | 3      \n",
      "only showing top 3 rows\n",
      "\n"
     ]
    }
   ],
   "source": [
    "tips_pyspark.show(3, vertical=True)"
   ]
  },
  {
   "cell_type": "markdown",
   "metadata": {},
   "source": [
    "DataFrame.collect() collects the distributed data to the driver side as the local data in Python. Note that this can throw an out-of-memory error when the dataset is too large to fit in the driver side because it collects all the data from executors to the driver side."
   ]
  },
  {
   "cell_type": "code",
   "execution_count": 88,
   "metadata": {},
   "outputs": [
    {
     "data": {
      "text/plain": [
       "[Row(total_bill=16.99, tip=1.01, sex='Female', smoker='No', day='Sun', time='Dinner', size=2),\n",
       " Row(total_bill=10.34, tip=1.66, sex='Male', smoker='No', day='Sun', time='Dinner', size=3),\n",
       " Row(total_bill=21.01, tip=3.5, sex='Male', smoker='No', day='Sun', time='Dinner', size=3),\n",
       " Row(total_bill=23.68, tip=3.31, sex='Male', smoker='No', day='Sun', time='Dinner', size=2),\n",
       " Row(total_bill=24.59, tip=3.61, sex='Female', smoker='No', day='Sun', time='Dinner', size=4),\n",
       " Row(total_bill=25.29, tip=4.71, sex='Male', smoker='No', day='Sun', time='Dinner', size=4),\n",
       " Row(total_bill=8.77, tip=2.0, sex='Male', smoker='No', day='Sun', time='Dinner', size=2),\n",
       " Row(total_bill=26.88, tip=3.12, sex='Male', smoker='No', day='Sun', time='Dinner', size=4),\n",
       " Row(total_bill=15.04, tip=1.96, sex='Male', smoker='No', day='Sun', time='Dinner', size=2),\n",
       " Row(total_bill=14.78, tip=3.23, sex='Male', smoker='No', day='Sun', time='Dinner', size=2),\n",
       " Row(total_bill=10.27, tip=1.71, sex='Male', smoker='No', day='Sun', time='Dinner', size=2),\n",
       " Row(total_bill=35.26, tip=5.0, sex='Female', smoker='No', day='Sun', time='Dinner', size=4),\n",
       " Row(total_bill=15.42, tip=1.57, sex='Male', smoker='No', day='Sun', time='Dinner', size=2),\n",
       " Row(total_bill=18.43, tip=3.0, sex='Male', smoker='No', day='Sun', time='Dinner', size=4),\n",
       " Row(total_bill=14.83, tip=3.02, sex='Female', smoker='No', day='Sun', time='Dinner', size=2),\n",
       " Row(total_bill=21.58, tip=3.92, sex='Male', smoker='No', day='Sun', time='Dinner', size=2),\n",
       " Row(total_bill=10.33, tip=1.67, sex='Female', smoker='No', day='Sun', time='Dinner', size=3),\n",
       " Row(total_bill=16.29, tip=3.71, sex='Male', smoker='No', day='Sun', time='Dinner', size=3),\n",
       " Row(total_bill=16.97, tip=3.5, sex='Female', smoker='No', day='Sun', time='Dinner', size=3),\n",
       " Row(total_bill=20.65, tip=3.35, sex='Male', smoker='No', day='Sat', time='Dinner', size=3),\n",
       " Row(total_bill=17.92, tip=4.08, sex='Male', smoker='No', day='Sat', time='Dinner', size=2),\n",
       " Row(total_bill=20.29, tip=2.75, sex='Female', smoker='No', day='Sat', time='Dinner', size=2),\n",
       " Row(total_bill=15.77, tip=2.23, sex='Female', smoker='No', day='Sat', time='Dinner', size=2),\n",
       " Row(total_bill=39.42, tip=7.58, sex='Male', smoker='No', day='Sat', time='Dinner', size=4),\n",
       " Row(total_bill=19.82, tip=3.18, sex='Male', smoker='No', day='Sat', time='Dinner', size=2),\n",
       " Row(total_bill=17.81, tip=2.34, sex='Male', smoker='No', day='Sat', time='Dinner', size=4),\n",
       " Row(total_bill=13.37, tip=2.0, sex='Male', smoker='No', day='Sat', time='Dinner', size=2),\n",
       " Row(total_bill=12.69, tip=2.0, sex='Male', smoker='No', day='Sat', time='Dinner', size=2),\n",
       " Row(total_bill=21.7, tip=4.3, sex='Male', smoker='No', day='Sat', time='Dinner', size=2),\n",
       " Row(total_bill=19.65, tip=3.0, sex='Female', smoker='No', day='Sat', time='Dinner', size=2),\n",
       " Row(total_bill=9.55, tip=1.45, sex='Male', smoker='No', day='Sat', time='Dinner', size=2),\n",
       " Row(total_bill=18.35, tip=2.5, sex='Male', smoker='No', day='Sat', time='Dinner', size=4),\n",
       " Row(total_bill=15.06, tip=3.0, sex='Female', smoker='No', day='Sat', time='Dinner', size=2),\n",
       " Row(total_bill=20.69, tip=2.45, sex='Female', smoker='No', day='Sat', time='Dinner', size=4),\n",
       " Row(total_bill=17.78, tip=3.27, sex='Male', smoker='No', day='Sat', time='Dinner', size=2),\n",
       " Row(total_bill=24.06, tip=3.6, sex='Male', smoker='No', day='Sat', time='Dinner', size=3),\n",
       " Row(total_bill=16.31, tip=2.0, sex='Male', smoker='No', day='Sat', time='Dinner', size=3),\n",
       " Row(total_bill=16.93, tip=3.07, sex='Female', smoker='No', day='Sat', time='Dinner', size=3),\n",
       " Row(total_bill=18.69, tip=2.31, sex='Male', smoker='No', day='Sat', time='Dinner', size=3),\n",
       " Row(total_bill=31.27, tip=5.0, sex='Male', smoker='No', day='Sat', time='Dinner', size=3),\n",
       " Row(total_bill=16.04, tip=2.24, sex='Male', smoker='No', day='Sat', time='Dinner', size=3),\n",
       " Row(total_bill=17.46, tip=2.54, sex='Male', smoker='No', day='Sun', time='Dinner', size=2),\n",
       " Row(total_bill=13.94, tip=3.06, sex='Male', smoker='No', day='Sun', time='Dinner', size=2),\n",
       " Row(total_bill=9.68, tip=1.32, sex='Male', smoker='No', day='Sun', time='Dinner', size=2),\n",
       " Row(total_bill=30.4, tip=5.6, sex='Male', smoker='No', day='Sun', time='Dinner', size=4),\n",
       " Row(total_bill=18.29, tip=3.0, sex='Male', smoker='No', day='Sun', time='Dinner', size=2),\n",
       " Row(total_bill=22.23, tip=5.0, sex='Male', smoker='No', day='Sun', time='Dinner', size=2),\n",
       " Row(total_bill=32.4, tip=6.0, sex='Male', smoker='No', day='Sun', time='Dinner', size=4),\n",
       " Row(total_bill=28.55, tip=2.05, sex='Male', smoker='No', day='Sun', time='Dinner', size=3),\n",
       " Row(total_bill=18.04, tip=3.0, sex='Male', smoker='No', day='Sun', time='Dinner', size=2),\n",
       " Row(total_bill=12.54, tip=2.5, sex='Male', smoker='No', day='Sun', time='Dinner', size=2),\n",
       " Row(total_bill=10.29, tip=2.6, sex='Female', smoker='No', day='Sun', time='Dinner', size=2),\n",
       " Row(total_bill=34.81, tip=5.2, sex='Female', smoker='No', day='Sun', time='Dinner', size=4),\n",
       " Row(total_bill=9.94, tip=1.56, sex='Male', smoker='No', day='Sun', time='Dinner', size=2),\n",
       " Row(total_bill=25.56, tip=4.34, sex='Male', smoker='No', day='Sun', time='Dinner', size=4),\n",
       " Row(total_bill=19.49, tip=3.51, sex='Male', smoker='No', day='Sun', time='Dinner', size=2),\n",
       " Row(total_bill=38.01, tip=3.0, sex='Male', smoker='Yes', day='Sat', time='Dinner', size=4),\n",
       " Row(total_bill=26.41, tip=1.5, sex='Female', smoker='No', day='Sat', time='Dinner', size=2),\n",
       " Row(total_bill=11.24, tip=1.76, sex='Male', smoker='Yes', day='Sat', time='Dinner', size=2),\n",
       " Row(total_bill=48.27, tip=6.73, sex='Male', smoker='No', day='Sat', time='Dinner', size=4),\n",
       " Row(total_bill=20.29, tip=3.21, sex='Male', smoker='Yes', day='Sat', time='Dinner', size=2),\n",
       " Row(total_bill=13.81, tip=2.0, sex='Male', smoker='Yes', day='Sat', time='Dinner', size=2),\n",
       " Row(total_bill=11.02, tip=1.98, sex='Male', smoker='Yes', day='Sat', time='Dinner', size=2),\n",
       " Row(total_bill=18.29, tip=3.76, sex='Male', smoker='Yes', day='Sat', time='Dinner', size=4),\n",
       " Row(total_bill=17.59, tip=2.64, sex='Male', smoker='No', day='Sat', time='Dinner', size=3),\n",
       " Row(total_bill=20.08, tip=3.15, sex='Male', smoker='No', day='Sat', time='Dinner', size=3),\n",
       " Row(total_bill=16.45, tip=2.47, sex='Female', smoker='No', day='Sat', time='Dinner', size=2),\n",
       " Row(total_bill=3.07, tip=1.0, sex='Female', smoker='Yes', day='Sat', time='Dinner', size=1),\n",
       " Row(total_bill=20.23, tip=2.01, sex='Male', smoker='No', day='Sat', time='Dinner', size=2),\n",
       " Row(total_bill=15.01, tip=2.09, sex='Male', smoker='Yes', day='Sat', time='Dinner', size=2),\n",
       " Row(total_bill=12.02, tip=1.97, sex='Male', smoker='No', day='Sat', time='Dinner', size=2),\n",
       " Row(total_bill=17.07, tip=3.0, sex='Female', smoker='No', day='Sat', time='Dinner', size=3),\n",
       " Row(total_bill=26.86, tip=3.14, sex='Female', smoker='Yes', day='Sat', time='Dinner', size=2),\n",
       " Row(total_bill=25.28, tip=5.0, sex='Female', smoker='Yes', day='Sat', time='Dinner', size=2),\n",
       " Row(total_bill=14.73, tip=2.2, sex='Female', smoker='No', day='Sat', time='Dinner', size=2),\n",
       " Row(total_bill=10.51, tip=1.25, sex='Male', smoker='No', day='Sat', time='Dinner', size=2),\n",
       " Row(total_bill=17.92, tip=3.08, sex='Male', smoker='Yes', day='Sat', time='Dinner', size=2),\n",
       " Row(total_bill=27.2, tip=4.0, sex='Male', smoker='No', day='Thur', time='Lunch', size=4),\n",
       " Row(total_bill=22.76, tip=3.0, sex='Male', smoker='No', day='Thur', time='Lunch', size=2),\n",
       " Row(total_bill=17.29, tip=2.71, sex='Male', smoker='No', day='Thur', time='Lunch', size=2),\n",
       " Row(total_bill=19.44, tip=3.0, sex='Male', smoker='Yes', day='Thur', time='Lunch', size=2),\n",
       " Row(total_bill=16.66, tip=3.4, sex='Male', smoker='No', day='Thur', time='Lunch', size=2),\n",
       " Row(total_bill=10.07, tip=1.83, sex='Female', smoker='No', day='Thur', time='Lunch', size=1),\n",
       " Row(total_bill=32.68, tip=5.0, sex='Male', smoker='Yes', day='Thur', time='Lunch', size=2),\n",
       " Row(total_bill=15.98, tip=2.03, sex='Male', smoker='No', day='Thur', time='Lunch', size=2),\n",
       " Row(total_bill=34.83, tip=5.17, sex='Female', smoker='No', day='Thur', time='Lunch', size=4),\n",
       " Row(total_bill=13.03, tip=2.0, sex='Male', smoker='No', day='Thur', time='Lunch', size=2),\n",
       " Row(total_bill=18.28, tip=4.0, sex='Male', smoker='No', day='Thur', time='Lunch', size=2),\n",
       " Row(total_bill=24.71, tip=5.85, sex='Male', smoker='No', day='Thur', time='Lunch', size=2),\n",
       " Row(total_bill=21.16, tip=3.0, sex='Male', smoker='No', day='Thur', time='Lunch', size=2),\n",
       " Row(total_bill=28.97, tip=3.0, sex='Male', smoker='Yes', day='Fri', time='Dinner', size=2),\n",
       " Row(total_bill=22.49, tip=3.5, sex='Male', smoker='No', day='Fri', time='Dinner', size=2),\n",
       " Row(total_bill=5.75, tip=1.0, sex='Female', smoker='Yes', day='Fri', time='Dinner', size=2),\n",
       " Row(total_bill=16.32, tip=4.3, sex='Female', smoker='Yes', day='Fri', time='Dinner', size=2),\n",
       " Row(total_bill=22.75, tip=3.25, sex='Female', smoker='No', day='Fri', time='Dinner', size=2),\n",
       " Row(total_bill=40.17, tip=4.73, sex='Male', smoker='Yes', day='Fri', time='Dinner', size=4),\n",
       " Row(total_bill=27.28, tip=4.0, sex='Male', smoker='Yes', day='Fri', time='Dinner', size=2),\n",
       " Row(total_bill=12.03, tip=1.5, sex='Male', smoker='Yes', day='Fri', time='Dinner', size=2),\n",
       " Row(total_bill=21.01, tip=3.0, sex='Male', smoker='Yes', day='Fri', time='Dinner', size=2),\n",
       " Row(total_bill=12.46, tip=1.5, sex='Male', smoker='No', day='Fri', time='Dinner', size=2),\n",
       " Row(total_bill=11.35, tip=2.5, sex='Female', smoker='Yes', day='Fri', time='Dinner', size=2),\n",
       " Row(total_bill=15.38, tip=3.0, sex='Female', smoker='Yes', day='Fri', time='Dinner', size=2),\n",
       " Row(total_bill=44.3, tip=2.5, sex='Female', smoker='Yes', day='Sat', time='Dinner', size=3),\n",
       " Row(total_bill=22.42, tip=3.48, sex='Female', smoker='Yes', day='Sat', time='Dinner', size=2),\n",
       " Row(total_bill=20.92, tip=4.08, sex='Female', smoker='No', day='Sat', time='Dinner', size=2),\n",
       " Row(total_bill=15.36, tip=1.64, sex='Male', smoker='Yes', day='Sat', time='Dinner', size=2),\n",
       " Row(total_bill=20.49, tip=4.06, sex='Male', smoker='Yes', day='Sat', time='Dinner', size=2),\n",
       " Row(total_bill=25.21, tip=4.29, sex='Male', smoker='Yes', day='Sat', time='Dinner', size=2),\n",
       " Row(total_bill=18.24, tip=3.76, sex='Male', smoker='No', day='Sat', time='Dinner', size=2),\n",
       " Row(total_bill=14.31, tip=4.0, sex='Female', smoker='Yes', day='Sat', time='Dinner', size=2),\n",
       " Row(total_bill=14.0, tip=3.0, sex='Male', smoker='No', day='Sat', time='Dinner', size=2),\n",
       " Row(total_bill=7.25, tip=1.0, sex='Female', smoker='No', day='Sat', time='Dinner', size=1),\n",
       " Row(total_bill=38.07, tip=4.0, sex='Male', smoker='No', day='Sun', time='Dinner', size=3),\n",
       " Row(total_bill=23.95, tip=2.55, sex='Male', smoker='No', day='Sun', time='Dinner', size=2),\n",
       " Row(total_bill=25.71, tip=4.0, sex='Female', smoker='No', day='Sun', time='Dinner', size=3),\n",
       " Row(total_bill=17.31, tip=3.5, sex='Female', smoker='No', day='Sun', time='Dinner', size=2),\n",
       " Row(total_bill=29.93, tip=5.07, sex='Male', smoker='No', day='Sun', time='Dinner', size=4),\n",
       " Row(total_bill=10.65, tip=1.5, sex='Female', smoker='No', day='Thur', time='Lunch', size=2),\n",
       " Row(total_bill=12.43, tip=1.8, sex='Female', smoker='No', day='Thur', time='Lunch', size=2),\n",
       " Row(total_bill=24.08, tip=2.92, sex='Female', smoker='No', day='Thur', time='Lunch', size=4),\n",
       " Row(total_bill=11.69, tip=2.31, sex='Male', smoker='No', day='Thur', time='Lunch', size=2),\n",
       " Row(total_bill=13.42, tip=1.68, sex='Female', smoker='No', day='Thur', time='Lunch', size=2),\n",
       " Row(total_bill=14.26, tip=2.5, sex='Male', smoker='No', day='Thur', time='Lunch', size=2),\n",
       " Row(total_bill=15.95, tip=2.0, sex='Male', smoker='No', day='Thur', time='Lunch', size=2),\n",
       " Row(total_bill=12.48, tip=2.52, sex='Female', smoker='No', day='Thur', time='Lunch', size=2),\n",
       " Row(total_bill=29.8, tip=4.2, sex='Female', smoker='No', day='Thur', time='Lunch', size=6),\n",
       " Row(total_bill=8.52, tip=1.48, sex='Male', smoker='No', day='Thur', time='Lunch', size=2),\n",
       " Row(total_bill=14.52, tip=2.0, sex='Female', smoker='No', day='Thur', time='Lunch', size=2),\n",
       " Row(total_bill=11.38, tip=2.0, sex='Female', smoker='No', day='Thur', time='Lunch', size=2),\n",
       " Row(total_bill=22.82, tip=2.18, sex='Male', smoker='No', day='Thur', time='Lunch', size=3),\n",
       " Row(total_bill=19.08, tip=1.5, sex='Male', smoker='No', day='Thur', time='Lunch', size=2),\n",
       " Row(total_bill=20.27, tip=2.83, sex='Female', smoker='No', day='Thur', time='Lunch', size=2),\n",
       " Row(total_bill=11.17, tip=1.5, sex='Female', smoker='No', day='Thur', time='Lunch', size=2),\n",
       " Row(total_bill=12.26, tip=2.0, sex='Female', smoker='No', day='Thur', time='Lunch', size=2),\n",
       " Row(total_bill=18.26, tip=3.25, sex='Female', smoker='No', day='Thur', time='Lunch', size=2),\n",
       " Row(total_bill=8.51, tip=1.25, sex='Female', smoker='No', day='Thur', time='Lunch', size=2),\n",
       " Row(total_bill=10.33, tip=2.0, sex='Female', smoker='No', day='Thur', time='Lunch', size=2),\n",
       " Row(total_bill=14.15, tip=2.0, sex='Female', smoker='No', day='Thur', time='Lunch', size=2),\n",
       " Row(total_bill=16.0, tip=2.0, sex='Male', smoker='Yes', day='Thur', time='Lunch', size=2),\n",
       " Row(total_bill=13.16, tip=2.75, sex='Female', smoker='No', day='Thur', time='Lunch', size=2),\n",
       " Row(total_bill=17.47, tip=3.5, sex='Female', smoker='No', day='Thur', time='Lunch', size=2),\n",
       " Row(total_bill=34.3, tip=6.7, sex='Male', smoker='No', day='Thur', time='Lunch', size=6),\n",
       " Row(total_bill=41.19, tip=5.0, sex='Male', smoker='No', day='Thur', time='Lunch', size=5),\n",
       " Row(total_bill=27.05, tip=5.0, sex='Female', smoker='No', day='Thur', time='Lunch', size=6),\n",
       " Row(total_bill=16.43, tip=2.3, sex='Female', smoker='No', day='Thur', time='Lunch', size=2),\n",
       " Row(total_bill=8.35, tip=1.5, sex='Female', smoker='No', day='Thur', time='Lunch', size=2),\n",
       " Row(total_bill=18.64, tip=1.36, sex='Female', smoker='No', day='Thur', time='Lunch', size=3),\n",
       " Row(total_bill=11.87, tip=1.63, sex='Female', smoker='No', day='Thur', time='Lunch', size=2),\n",
       " Row(total_bill=9.78, tip=1.73, sex='Male', smoker='No', day='Thur', time='Lunch', size=2),\n",
       " Row(total_bill=7.51, tip=2.0, sex='Male', smoker='No', day='Thur', time='Lunch', size=2),\n",
       " Row(total_bill=14.07, tip=2.5, sex='Male', smoker='No', day='Sun', time='Dinner', size=2),\n",
       " Row(total_bill=13.13, tip=2.0, sex='Male', smoker='No', day='Sun', time='Dinner', size=2),\n",
       " Row(total_bill=17.26, tip=2.74, sex='Male', smoker='No', day='Sun', time='Dinner', size=3),\n",
       " Row(total_bill=24.55, tip=2.0, sex='Male', smoker='No', day='Sun', time='Dinner', size=4),\n",
       " Row(total_bill=19.77, tip=2.0, sex='Male', smoker='No', day='Sun', time='Dinner', size=4),\n",
       " Row(total_bill=29.85, tip=5.14, sex='Female', smoker='No', day='Sun', time='Dinner', size=5),\n",
       " Row(total_bill=48.17, tip=5.0, sex='Male', smoker='No', day='Sun', time='Dinner', size=6),\n",
       " Row(total_bill=25.0, tip=3.75, sex='Female', smoker='No', day='Sun', time='Dinner', size=4),\n",
       " Row(total_bill=13.39, tip=2.61, sex='Female', smoker='No', day='Sun', time='Dinner', size=2),\n",
       " Row(total_bill=16.49, tip=2.0, sex='Male', smoker='No', day='Sun', time='Dinner', size=4),\n",
       " Row(total_bill=21.5, tip=3.5, sex='Male', smoker='No', day='Sun', time='Dinner', size=4),\n",
       " Row(total_bill=12.66, tip=2.5, sex='Male', smoker='No', day='Sun', time='Dinner', size=2),\n",
       " Row(total_bill=16.21, tip=2.0, sex='Female', smoker='No', day='Sun', time='Dinner', size=3),\n",
       " Row(total_bill=13.81, tip=2.0, sex='Male', smoker='No', day='Sun', time='Dinner', size=2),\n",
       " Row(total_bill=17.51, tip=3.0, sex='Female', smoker='Yes', day='Sun', time='Dinner', size=2),\n",
       " Row(total_bill=24.52, tip=3.48, sex='Male', smoker='No', day='Sun', time='Dinner', size=3),\n",
       " Row(total_bill=20.76, tip=2.24, sex='Male', smoker='No', day='Sun', time='Dinner', size=2),\n",
       " Row(total_bill=31.71, tip=4.5, sex='Male', smoker='No', day='Sun', time='Dinner', size=4),\n",
       " Row(total_bill=10.59, tip=1.61, sex='Female', smoker='Yes', day='Sat', time='Dinner', size=2),\n",
       " Row(total_bill=10.63, tip=2.0, sex='Female', smoker='Yes', day='Sat', time='Dinner', size=2),\n",
       " Row(total_bill=50.81, tip=10.0, sex='Male', smoker='Yes', day='Sat', time='Dinner', size=3),\n",
       " Row(total_bill=15.81, tip=3.16, sex='Male', smoker='Yes', day='Sat', time='Dinner', size=2),\n",
       " Row(total_bill=7.25, tip=5.15, sex='Male', smoker='Yes', day='Sun', time='Dinner', size=2),\n",
       " Row(total_bill=31.85, tip=3.18, sex='Male', smoker='Yes', day='Sun', time='Dinner', size=2),\n",
       " Row(total_bill=16.82, tip=4.0, sex='Male', smoker='Yes', day='Sun', time='Dinner', size=2),\n",
       " Row(total_bill=32.9, tip=3.11, sex='Male', smoker='Yes', day='Sun', time='Dinner', size=2),\n",
       " Row(total_bill=17.89, tip=2.0, sex='Male', smoker='Yes', day='Sun', time='Dinner', size=2),\n",
       " Row(total_bill=14.48, tip=2.0, sex='Male', smoker='Yes', day='Sun', time='Dinner', size=2),\n",
       " Row(total_bill=9.6, tip=4.0, sex='Female', smoker='Yes', day='Sun', time='Dinner', size=2),\n",
       " Row(total_bill=34.63, tip=3.55, sex='Male', smoker='Yes', day='Sun', time='Dinner', size=2),\n",
       " Row(total_bill=34.65, tip=3.68, sex='Male', smoker='Yes', day='Sun', time='Dinner', size=4),\n",
       " Row(total_bill=23.33, tip=5.65, sex='Male', smoker='Yes', day='Sun', time='Dinner', size=2),\n",
       " Row(total_bill=45.35, tip=3.5, sex='Male', smoker='Yes', day='Sun', time='Dinner', size=3),\n",
       " Row(total_bill=23.17, tip=6.5, sex='Male', smoker='Yes', day='Sun', time='Dinner', size=4),\n",
       " Row(total_bill=40.55, tip=3.0, sex='Male', smoker='Yes', day='Sun', time='Dinner', size=2),\n",
       " Row(total_bill=20.69, tip=5.0, sex='Male', smoker='No', day='Sun', time='Dinner', size=5),\n",
       " Row(total_bill=20.9, tip=3.5, sex='Female', smoker='Yes', day='Sun', time='Dinner', size=3),\n",
       " Row(total_bill=30.46, tip=2.0, sex='Male', smoker='Yes', day='Sun', time='Dinner', size=5),\n",
       " Row(total_bill=18.15, tip=3.5, sex='Female', smoker='Yes', day='Sun', time='Dinner', size=3),\n",
       " Row(total_bill=23.1, tip=4.0, sex='Male', smoker='Yes', day='Sun', time='Dinner', size=3),\n",
       " Row(total_bill=15.69, tip=1.5, sex='Male', smoker='Yes', day='Sun', time='Dinner', size=2),\n",
       " Row(total_bill=19.81, tip=4.19, sex='Female', smoker='Yes', day='Thur', time='Lunch', size=2),\n",
       " Row(total_bill=28.44, tip=2.56, sex='Male', smoker='Yes', day='Thur', time='Lunch', size=2),\n",
       " Row(total_bill=15.48, tip=2.02, sex='Male', smoker='Yes', day='Thur', time='Lunch', size=2),\n",
       " Row(total_bill=16.58, tip=4.0, sex='Male', smoker='Yes', day='Thur', time='Lunch', size=2),\n",
       " Row(total_bill=7.56, tip=1.44, sex='Male', smoker='No', day='Thur', time='Lunch', size=2),\n",
       " Row(total_bill=10.34, tip=2.0, sex='Male', smoker='Yes', day='Thur', time='Lunch', size=2),\n",
       " Row(total_bill=43.11, tip=5.0, sex='Female', smoker='Yes', day='Thur', time='Lunch', size=4),\n",
       " Row(total_bill=13.0, tip=2.0, sex='Female', smoker='Yes', day='Thur', time='Lunch', size=2),\n",
       " Row(total_bill=13.51, tip=2.0, sex='Male', smoker='Yes', day='Thur', time='Lunch', size=2),\n",
       " Row(total_bill=18.71, tip=4.0, sex='Male', smoker='Yes', day='Thur', time='Lunch', size=3),\n",
       " Row(total_bill=12.74, tip=2.01, sex='Female', smoker='Yes', day='Thur', time='Lunch', size=2),\n",
       " Row(total_bill=13.0, tip=2.0, sex='Female', smoker='Yes', day='Thur', time='Lunch', size=2),\n",
       " Row(total_bill=16.4, tip=2.5, sex='Female', smoker='Yes', day='Thur', time='Lunch', size=2),\n",
       " Row(total_bill=20.53, tip=4.0, sex='Male', smoker='Yes', day='Thur', time='Lunch', size=4),\n",
       " Row(total_bill=16.47, tip=3.23, sex='Female', smoker='Yes', day='Thur', time='Lunch', size=3),\n",
       " Row(total_bill=26.59, tip=3.41, sex='Male', smoker='Yes', day='Sat', time='Dinner', size=3),\n",
       " Row(total_bill=38.73, tip=3.0, sex='Male', smoker='Yes', day='Sat', time='Dinner', size=4),\n",
       " Row(total_bill=24.27, tip=2.03, sex='Male', smoker='Yes', day='Sat', time='Dinner', size=2),\n",
       " Row(total_bill=12.76, tip=2.23, sex='Female', smoker='Yes', day='Sat', time='Dinner', size=2),\n",
       " Row(total_bill=30.06, tip=2.0, sex='Male', smoker='Yes', day='Sat', time='Dinner', size=3),\n",
       " Row(total_bill=25.89, tip=5.16, sex='Male', smoker='Yes', day='Sat', time='Dinner', size=4),\n",
       " Row(total_bill=48.33, tip=9.0, sex='Male', smoker='No', day='Sat', time='Dinner', size=4),\n",
       " Row(total_bill=13.27, tip=2.5, sex='Female', smoker='Yes', day='Sat', time='Dinner', size=2),\n",
       " Row(total_bill=28.17, tip=6.5, sex='Female', smoker='Yes', day='Sat', time='Dinner', size=3),\n",
       " Row(total_bill=12.9, tip=1.1, sex='Female', smoker='Yes', day='Sat', time='Dinner', size=2),\n",
       " Row(total_bill=28.15, tip=3.0, sex='Male', smoker='Yes', day='Sat', time='Dinner', size=5),\n",
       " Row(total_bill=11.59, tip=1.5, sex='Male', smoker='Yes', day='Sat', time='Dinner', size=2),\n",
       " Row(total_bill=7.74, tip=1.44, sex='Male', smoker='Yes', day='Sat', time='Dinner', size=2),\n",
       " Row(total_bill=30.14, tip=3.09, sex='Female', smoker='Yes', day='Sat', time='Dinner', size=4),\n",
       " Row(total_bill=12.16, tip=2.2, sex='Male', smoker='Yes', day='Fri', time='Lunch', size=2),\n",
       " Row(total_bill=13.42, tip=3.48, sex='Female', smoker='Yes', day='Fri', time='Lunch', size=2),\n",
       " Row(total_bill=8.58, tip=1.92, sex='Male', smoker='Yes', day='Fri', time='Lunch', size=1),\n",
       " Row(total_bill=15.98, tip=3.0, sex='Female', smoker='No', day='Fri', time='Lunch', size=3),\n",
       " Row(total_bill=13.42, tip=1.58, sex='Male', smoker='Yes', day='Fri', time='Lunch', size=2),\n",
       " Row(total_bill=16.27, tip=2.5, sex='Female', smoker='Yes', day='Fri', time='Lunch', size=2),\n",
       " Row(total_bill=10.09, tip=2.0, sex='Female', smoker='Yes', day='Fri', time='Lunch', size=2),\n",
       " Row(total_bill=20.45, tip=3.0, sex='Male', smoker='No', day='Sat', time='Dinner', size=4),\n",
       " Row(total_bill=13.28, tip=2.72, sex='Male', smoker='No', day='Sat', time='Dinner', size=2),\n",
       " Row(total_bill=22.12, tip=2.88, sex='Female', smoker='Yes', day='Sat', time='Dinner', size=2),\n",
       " Row(total_bill=24.01, tip=2.0, sex='Male', smoker='Yes', day='Sat', time='Dinner', size=4),\n",
       " Row(total_bill=15.69, tip=3.0, sex='Male', smoker='Yes', day='Sat', time='Dinner', size=3),\n",
       " Row(total_bill=11.61, tip=3.39, sex='Male', smoker='No', day='Sat', time='Dinner', size=2),\n",
       " Row(total_bill=10.77, tip=1.47, sex='Male', smoker='No', day='Sat', time='Dinner', size=2),\n",
       " Row(total_bill=15.53, tip=3.0, sex='Male', smoker='Yes', day='Sat', time='Dinner', size=2),\n",
       " Row(total_bill=10.07, tip=1.25, sex='Male', smoker='No', day='Sat', time='Dinner', size=2),\n",
       " Row(total_bill=12.6, tip=1.0, sex='Male', smoker='Yes', day='Sat', time='Dinner', size=2),\n",
       " Row(total_bill=32.83, tip=1.17, sex='Male', smoker='Yes', day='Sat', time='Dinner', size=2),\n",
       " Row(total_bill=35.83, tip=4.67, sex='Female', smoker='No', day='Sat', time='Dinner', size=3),\n",
       " Row(total_bill=29.03, tip=5.92, sex='Male', smoker='No', day='Sat', time='Dinner', size=3),\n",
       " Row(total_bill=27.18, tip=2.0, sex='Female', smoker='Yes', day='Sat', time='Dinner', size=2),\n",
       " Row(total_bill=22.67, tip=2.0, sex='Male', smoker='Yes', day='Sat', time='Dinner', size=2),\n",
       " Row(total_bill=17.82, tip=1.75, sex='Male', smoker='No', day='Sat', time='Dinner', size=2),\n",
       " Row(total_bill=18.78, tip=3.0, sex='Female', smoker='No', day='Thur', time='Dinner', size=2)]"
      ]
     },
     "execution_count": 88,
     "metadata": {},
     "output_type": "execute_result"
    }
   ],
   "source": [
    "tips_pyspark.collect()"
   ]
  },
  {
   "cell_type": "markdown",
   "metadata": {},
   "source": [
    "In order to avoid throwing an out-of-memory exception, use DataFrame.take() or DataFrame.tail()."
   ]
  },
  {
   "cell_type": "code",
   "execution_count": 89,
   "metadata": {},
   "outputs": [
    {
     "data": {
      "text/plain": [
       "[Row(total_bill=16.99, tip=1.01, sex='Female', smoker='No', day='Sun', time='Dinner', size=2),\n",
       " Row(total_bill=10.34, tip=1.66, sex='Male', smoker='No', day='Sun', time='Dinner', size=3),\n",
       " Row(total_bill=21.01, tip=3.5, sex='Male', smoker='No', day='Sun', time='Dinner', size=3)]"
      ]
     },
     "execution_count": 89,
     "metadata": {},
     "output_type": "execute_result"
    }
   ],
   "source": [
    "tips_pyspark.take(3)"
   ]
  },
  {
   "cell_type": "code",
   "execution_count": 90,
   "metadata": {},
   "outputs": [
    {
     "data": {
      "text/plain": [
       "[Row(total_bill=29.03, tip=5.92, sex='Male', smoker='No', day='Sat', time='Dinner', size=3),\n",
       " Row(total_bill=27.18, tip=2.0, sex='Female', smoker='Yes', day='Sat', time='Dinner', size=2),\n",
       " Row(total_bill=22.67, tip=2.0, sex='Male', smoker='Yes', day='Sat', time='Dinner', size=2),\n",
       " Row(total_bill=17.82, tip=1.75, sex='Male', smoker='No', day='Sat', time='Dinner', size=2),\n",
       " Row(total_bill=18.78, tip=3.0, sex='Female', smoker='No', day='Thur', time='Dinner', size=2)]"
      ]
     },
     "execution_count": 90,
     "metadata": {},
     "output_type": "execute_result"
    }
   ],
   "source": [
    "tips_pyspark.tail(5)"
   ]
  },
  {
   "cell_type": "markdown",
   "metadata": {},
   "source": [
    "We can do some future engineering."
   ]
  },
  {
   "cell_type": "code",
   "execution_count": 91,
   "metadata": {},
   "outputs": [],
   "source": [
    "from pyspark.sql.functions import upper"
   ]
  },
  {
   "cell_type": "code",
   "execution_count": 92,
   "metadata": {},
   "outputs": [
    {
     "name": "stdout",
     "output_type": "stream",
     "text": [
      "+----------+----+------+------+---+------+----+---------+\n",
      "|total_bill| tip|   sex|smoker|day|  time|size|upper_sex|\n",
      "+----------+----+------+------+---+------+----+---------+\n",
      "|     16.99|1.01|Female|    No|Sun|Dinner|   2|   FEMALE|\n",
      "|     10.34|1.66|  Male|    No|Sun|Dinner|   3|     MALE|\n",
      "|     21.01| 3.5|  Male|    No|Sun|Dinner|   3|     MALE|\n",
      "|     23.68|3.31|  Male|    No|Sun|Dinner|   2|     MALE|\n",
      "|     24.59|3.61|Female|    No|Sun|Dinner|   4|   FEMALE|\n",
      "+----------+----+------+------+---+------+----+---------+\n",
      "only showing top 5 rows\n",
      "\n"
     ]
    }
   ],
   "source": [
    "tips_pyspark.withColumn('upper_sex', upper(tips_pyspark.sex)).show(5)"
   ]
  },
  {
   "cell_type": "markdown",
   "metadata": {},
   "source": [
    "Let's convert categorical features to numerical with StringIndexer."
   ]
  },
  {
   "cell_type": "code",
   "execution_count": 93,
   "metadata": {},
   "outputs": [
    {
     "name": "stdout",
     "output_type": "stream",
     "text": [
      "+----------+----+------+---+------+----+-----------+\n",
      "|total_bill| tip|smoker|day|  time|size|sex_numeric|\n",
      "+----------+----+------+---+------+----+-----------+\n",
      "|     16.99|1.01|    No|Sun|Dinner|   2|        1.0|\n",
      "|     10.34|1.66|    No|Sun|Dinner|   3|        0.0|\n",
      "|     21.01| 3.5|    No|Sun|Dinner|   3|        0.0|\n",
      "|     23.68|3.31|    No|Sun|Dinner|   2|        0.0|\n",
      "|     24.59|3.61|    No|Sun|Dinner|   4|        1.0|\n",
      "+----------+----+------+---+------+----+-----------+\n",
      "only showing top 5 rows\n",
      "\n"
     ]
    }
   ],
   "source": [
    "indexer = StringIndexer(inputCol='sex', outputCol='sex_numeric')\n",
    "tips_df_indexed = indexer.fit(tips_pyspark).transform(tips_pyspark)\n",
    "tips_df_indexed = tips_df_indexed.drop(\"sex\")\n",
    "tips_df_indexed.show(5)"
   ]
  },
  {
   "cell_type": "code",
   "execution_count": 94,
   "metadata": {},
   "outputs": [
    {
     "name": "stdout",
     "output_type": "stream",
     "text": [
      "+----------+----+----+-----------+--------------+-----------+------------+\n",
      "|total_bill| tip|size|sex_numeric|smoker_numeric|day_numeric|time_numeric|\n",
      "+----------+----+----+-----------+--------------+-----------+------------+\n",
      "|     16.99|1.01|   2|        1.0|           0.0|        1.0|         0.0|\n",
      "|     10.34|1.66|   3|        0.0|           0.0|        1.0|         0.0|\n",
      "|     21.01| 3.5|   3|        0.0|           0.0|        1.0|         0.0|\n",
      "|     23.68|3.31|   2|        0.0|           0.0|        1.0|         0.0|\n",
      "|     24.59|3.61|   4|        1.0|           0.0|        1.0|         0.0|\n",
      "+----------+----+----+-----------+--------------+-----------+------------+\n",
      "only showing top 5 rows\n",
      "\n"
     ]
    }
   ],
   "source": [
    "indexer = StringIndexer(inputCols  =['smoker','day','time'], \n",
    "                        outputCols =['smoker_numeric','day_numeric','time_numeric'])\n",
    "tips_df_indexed = indexer.fit(tips_df_indexed).transform(tips_df_indexed)\n",
    "tips_df_indexed = tips_df_indexed.drop('smoker','day','time')\n",
    "tips_df_indexed.show(5)"
   ]
  },
  {
   "cell_type": "code",
   "execution_count": 95,
   "metadata": {
    "id": "oZxRrjQmVTlq"
   },
   "outputs": [],
   "source": [
    "tips_feature_assembler = VectorAssembler(inputCols=[\"tip\",\"size\",\"sex_numeric\",\n",
    "                                                    \"smoker_numeric\",\"day_numeric\",\"time_numeric\"],\n",
    "                                         outputCol=\"Independent Features\")"
   ]
  },
  {
   "cell_type": "code",
   "execution_count": 96,
   "metadata": {
    "id": "RmGmaFH5VTpr"
   },
   "outputs": [],
   "source": [
    "tips_output = tips_feature_assembler.transform(tips_df_indexed)"
   ]
  },
  {
   "cell_type": "code",
   "execution_count": 97,
   "metadata": {
    "colab": {
     "base_uri": "https://localhost:8080/"
    },
    "id": "4--TDFsOVTtv",
    "outputId": "e7fc95e3-184a-4c4d-a76d-f55989f8575f"
   },
   "outputs": [
    {
     "name": "stdout",
     "output_type": "stream",
     "text": [
      "+----------+----+----+-----------+--------------+-----------+------------+--------------------+\n",
      "|total_bill| tip|size|sex_numeric|smoker_numeric|day_numeric|time_numeric|Independent Features|\n",
      "+----------+----+----+-----------+--------------+-----------+------------+--------------------+\n",
      "|     16.99|1.01|   2|        1.0|           0.0|        1.0|         0.0|[1.01,2.0,1.0,0.0...|\n",
      "|     10.34|1.66|   3|        0.0|           0.0|        1.0|         0.0|[1.66,3.0,0.0,0.0...|\n",
      "|     21.01| 3.5|   3|        0.0|           0.0|        1.0|         0.0|[3.5,3.0,0.0,0.0,...|\n",
      "|     23.68|3.31|   2|        0.0|           0.0|        1.0|         0.0|[3.31,2.0,0.0,0.0...|\n",
      "|     24.59|3.61|   4|        1.0|           0.0|        1.0|         0.0|[3.61,4.0,1.0,0.0...|\n",
      "+----------+----+----+-----------+--------------+-----------+------------+--------------------+\n",
      "only showing top 5 rows\n",
      "\n"
     ]
    }
   ],
   "source": [
    "tips_output.show(5)"
   ]
  },
  {
   "cell_type": "code",
   "execution_count": 98,
   "metadata": {
    "id": "iTkwcQ1fuM2z"
   },
   "outputs": [],
   "source": [
    "tips_final_data = tips_output.select(\"Independent Features\",\"total_bill\")"
   ]
  },
  {
   "cell_type": "code",
   "execution_count": 99,
   "metadata": {
    "colab": {
     "base_uri": "https://localhost:8080/"
    },
    "id": "V_VDw_-3uM9L",
    "outputId": "eee09671-81f3-4c83-e5d9-ef1504c28680"
   },
   "outputs": [
    {
     "name": "stdout",
     "output_type": "stream",
     "text": [
      "+--------------------+----------+\n",
      "|Independent Features|total_bill|\n",
      "+--------------------+----------+\n",
      "|[1.01,2.0,1.0,0.0...|     16.99|\n",
      "|[1.66,3.0,0.0,0.0...|     10.34|\n",
      "|[3.5,3.0,0.0,0.0,...|     21.01|\n",
      "|[3.31,2.0,0.0,0.0...|     23.68|\n",
      "|[3.61,4.0,1.0,0.0...|     24.59|\n",
      "+--------------------+----------+\n",
      "only showing top 5 rows\n",
      "\n"
     ]
    }
   ],
   "source": [
    "tips_final_data.show(5)"
   ]
  },
  {
   "cell_type": "code",
   "execution_count": 100,
   "metadata": {
    "id": "AB5DxCOduNIN"
   },
   "outputs": [],
   "source": [
    "#train test split\n",
    "train_data, test_data = tips_final_data.randomSplit([0.80,0.20])"
   ]
  },
  {
   "cell_type": "code",
   "execution_count": 101,
   "metadata": {
    "id": "0v8Nn4RsuNNb"
   },
   "outputs": [],
   "source": [
    "regressor = LinearRegression(featuresCol=\"Independent Features\",\n",
    "                             labelCol=\"total_bill\")"
   ]
  },
  {
   "cell_type": "code",
   "execution_count": 102,
   "metadata": {
    "id": "ZKK8brrRuNSo"
   },
   "outputs": [
    {
     "name": "stdout",
     "output_type": "stream",
     "text": [
      "23/01/31 03:01:40 WARN Instrumentation: [5e38a7c4] regParam is zero, which might cause numerical instability and overfitting.\n"
     ]
    }
   ],
   "source": [
    "regressor = regressor.fit(train_data)"
   ]
  },
  {
   "cell_type": "code",
   "execution_count": 103,
   "metadata": {
    "colab": {
     "base_uri": "https://localhost:8080/"
    },
    "id": "BOI6SxjWuNXY",
    "outputId": "af66ccf4-289d-4f43-dbd1-e7a2313f401c"
   },
   "outputs": [
    {
     "data": {
      "text/plain": [
       "DenseVector([3.0241, 3.924, -0.4684, 1.5785, -0.5362, 0.0529])"
      ]
     },
     "execution_count": 103,
     "metadata": {},
     "output_type": "execute_result"
    }
   ],
   "source": [
    "# Coefficients\n",
    "regressor.coefficients"
   ]
  },
  {
   "cell_type": "code",
   "execution_count": 104,
   "metadata": {
    "colab": {
     "base_uri": "https://localhost:8080/"
    },
    "id": "ACLsPo5nVTxZ",
    "outputId": "05bbe771-e74e-4772-ef33-1a8aed27ef25"
   },
   "outputs": [
    {
     "data": {
      "text/plain": [
       "0.6713369724849293"
      ]
     },
     "execution_count": 104,
     "metadata": {},
     "output_type": "execute_result"
    }
   ],
   "source": [
    "# Intercept\n",
    "regressor.intercept"
   ]
  },
  {
   "cell_type": "code",
   "execution_count": 105,
   "metadata": {},
   "outputs": [
    {
     "name": "stdout",
     "output_type": "stream",
     "text": [
      "+--------------------+----------+\n",
      "|Independent Features|total_bill|\n",
      "+--------------------+----------+\n",
      "| (6,[0,1],[2.0,2.0])|     12.69|\n",
      "| (6,[0,1],[2.0,2.0])|     13.37|\n",
      "|(6,[0,1],[3.18,2.0])|     19.82|\n",
      "+--------------------+----------+\n",
      "only showing top 3 rows\n",
      "\n"
     ]
    }
   ],
   "source": [
    "train_data.show(3)"
   ]
  },
  {
   "cell_type": "code",
   "execution_count": 106,
   "metadata": {},
   "outputs": [
    {
     "name": "stdout",
     "output_type": "stream",
     "text": [
      "+--------------------+----------+\n",
      "|Independent Features|total_bill|\n",
      "+--------------------+----------+\n",
      "|(6,[0,1],[2.34,4.0])|     17.81|\n",
      "|(6,[0,1],[3.35,3.0])|     20.65|\n",
      "|(6,[0,1],[7.58,4.0])|     39.42|\n",
      "+--------------------+----------+\n",
      "only showing top 3 rows\n",
      "\n"
     ]
    }
   ],
   "source": [
    "test_data.show(3)"
   ]
  },
  {
   "cell_type": "code",
   "execution_count": 107,
   "metadata": {
    "id": "8MO85lYs0YYR"
   },
   "outputs": [],
   "source": [
    "# Prediction\n",
    "preds = regressor.evaluate(test_data)"
   ]
  },
  {
   "cell_type": "code",
   "execution_count": 108,
   "metadata": {
    "colab": {
     "base_uri": "https://localhost:8080/"
    },
    "id": "9VCF1XYf0Wzo",
    "outputId": "a319e47a-c1c2-46dc-f156-89c614ac0e2e"
   },
   "outputs": [
    {
     "name": "stdout",
     "output_type": "stream",
     "text": [
      "+--------------------+----------+------------------+\n",
      "|Independent Features|total_bill|        prediction|\n",
      "+--------------------+----------+------------------+\n",
      "|(6,[0,1],[2.34,4.0])|     17.81|23.443598368066397|\n",
      "|(6,[0,1],[3.35,3.0])|     20.65|22.573936991002803|\n",
      "|(6,[0,1],[7.58,4.0])|     39.42| 39.28976564856701|\n",
      "|[1.57,2.0,0.0,0.0...|     15.42|12.730903797755602|\n",
      "|[1.67,3.0,1.0,0.0...|     10.33| 16.48884637285187|\n",
      "+--------------------+----------+------------------+\n",
      "only showing top 5 rows\n",
      "\n"
     ]
    }
   ],
   "source": [
    "preds.predictions.show(5)"
   ]
  },
  {
   "cell_type": "code",
   "execution_count": 109,
   "metadata": {
    "colab": {
     "base_uri": "https://localhost:8080/"
    },
    "id": "uBa6hhSF0T6W",
    "outputId": "5ea13811-b8a7-449b-d15a-4725a8de7e5a"
   },
   "outputs": [
    {
     "data": {
      "text/plain": [
       "5.056924033679152"
      ]
     },
     "execution_count": 109,
     "metadata": {},
     "output_type": "execute_result"
    }
   ],
   "source": [
    "preds.meanAbsoluteError"
   ]
  },
  {
   "cell_type": "code",
   "execution_count": 110,
   "metadata": {
    "colab": {
     "base_uri": "https://localhost:8080/"
    },
    "id": "orojPJykwNtW",
    "outputId": "8ea2333b-c428-4ece-dfcf-494515a7a6b8"
   },
   "outputs": [
    {
     "data": {
      "text/plain": [
       "50.591878710109086"
      ]
     },
     "execution_count": 110,
     "metadata": {},
     "output_type": "execute_result"
    }
   ],
   "source": [
    "preds.meanSquaredError"
   ]
  },
  {
   "cell_type": "code",
   "execution_count": 111,
   "metadata": {},
   "outputs": [
    {
     "data": {
      "text/plain": [
       "0.3974959747107214"
      ]
     },
     "execution_count": 111,
     "metadata": {},
     "output_type": "execute_result"
    }
   ],
   "source": [
    "preds.r2"
   ]
  },
  {
   "cell_type": "code",
   "execution_count": 112,
   "metadata": {},
   "outputs": [
    {
     "data": {
      "text/plain": [
       "47.72680346204207"
      ]
     },
     "execution_count": 112,
     "metadata": {},
     "output_type": "execute_result"
    }
   ],
   "source": [
    "preds.explainedVariance"
   ]
  },
  {
   "cell_type": "code",
   "execution_count": 113,
   "metadata": {},
   "outputs": [
    {
     "name": "stdout",
     "output_type": "stream",
     "text": [
      "+-------------------+\n",
      "|          residuals|\n",
      "+-------------------+\n",
      "| -5.633598368066398|\n",
      "|-1.9239369910028046|\n",
      "|0.13023435143298911|\n",
      "| 2.6890962022443983|\n",
      "| -6.158846372851871|\n",
      "+-------------------+\n",
      "only showing top 5 rows\n",
      "\n"
     ]
    }
   ],
   "source": [
    "preds.residuals.show(5)"
   ]
  },
  {
   "cell_type": "markdown",
   "metadata": {},
   "source": [
    "**Save the Model**\n",
    "\n",
    "Model can be saved as below:"
   ]
  },
  {
   "cell_type": "code",
   "execution_count": 114,
   "metadata": {},
   "outputs": [],
   "source": [
    "regressor.save(\"model\")"
   ]
  },
  {
   "cell_type": "markdown",
   "metadata": {},
   "source": [
    "# Shaping Data with Pipelines"
   ]
  },
  {
   "cell_type": "code",
   "execution_count": 115,
   "metadata": {},
   "outputs": [],
   "source": [
    "from pyspark.ml import Pipeline\n",
    "from pyspark.ml.feature import OneHotEncoder, StringIndexer, VectorAssembler, OneHotEncoderModel"
   ]
  },
  {
   "cell_type": "markdown",
   "metadata": {},
   "source": [
    "Define which columns are numerical versus categorical (and which is the label column)"
   ]
  },
  {
   "cell_type": "code",
   "execution_count": 116,
   "metadata": {},
   "outputs": [],
   "source": [
    "label = \"dependentvar\""
   ]
  },
  {
   "cell_type": "code",
   "execution_count": 117,
   "metadata": {},
   "outputs": [],
   "source": [
    "categoricalColumns = [\"col1\",\"col2\"]"
   ]
  },
  {
   "cell_type": "code",
   "execution_count": 118,
   "metadata": {},
   "outputs": [],
   "source": [
    "numericalColumns = [\"num1\",\"num2\"]"
   ]
  },
  {
   "cell_type": "code",
   "execution_count": 119,
   "metadata": {},
   "outputs": [],
   "source": [
    "categoricalColumnsclassVec = [c + \"classVec\" for c in categoricalColumns]"
   ]
  },
  {
   "cell_type": "code",
   "execution_count": 120,
   "metadata": {},
   "outputs": [
    {
     "data": {
      "text/plain": [
       "['col1classVec', 'col2classVec']"
      ]
     },
     "execution_count": 120,
     "metadata": {},
     "output_type": "execute_result"
    }
   ],
   "source": [
    "categoricalColumnsclassVec"
   ]
  },
  {
   "cell_type": "code",
   "execution_count": 121,
   "metadata": {},
   "outputs": [],
   "source": [
    "stages = []"
   ]
  },
  {
   "cell_type": "code",
   "execution_count": 122,
   "metadata": {},
   "outputs": [
    {
     "name": "stdout",
     "output_type": "stream",
     "text": [
      "col1\n",
      "col2\n"
     ]
    }
   ],
   "source": [
    "for categoricalColumn in categoricalColumns:\n",
    "    print(categoricalColumn)\n",
    "    \n",
    "    ## Category Indexing with StringIndexer\n",
    "    stringIndexer = StringIndexer(inputCol=categoricalColumn, \n",
    "                                  outputCol = categoricalColumn+\"Index\").setHandleInvalid(\"skip\")\n",
    "      \n",
    "    ## Use OneHotEncoder to convert categorical variables into binary SparseVectors\n",
    "    encoder = OneHotEncoder(inputCol=categoricalColumn+\"Index\", outputCol=categoricalColumn+\"classVec\")\n",
    "    \n",
    "    ## Add stages\n",
    "    stages += [stringIndexer, encoder]"
   ]
  },
  {
   "cell_type": "code",
   "execution_count": 123,
   "metadata": {},
   "outputs": [
    {
     "data": {
      "text/plain": [
       "[StringIndexer_cc2cb26e245c,\n",
       " OneHotEncoder_a16d5ff7fd1c,\n",
       " StringIndexer_5e0bc0dc2bab,\n",
       " OneHotEncoder_72ab07c2dd81]"
      ]
     },
     "execution_count": 123,
     "metadata": {},
     "output_type": "execute_result"
    }
   ],
   "source": [
    "stages"
   ]
  },
  {
   "cell_type": "markdown",
   "metadata": {},
   "source": [
    "Index the label column and perform One Hot Encoding"
   ]
  },
  {
   "cell_type": "code",
   "execution_count": 124,
   "metadata": {},
   "outputs": [],
   "source": [
    "## Convert label into label indices using the StringIndexer\n",
    "label_stringIndexer = StringIndexer(inputCol = label, outputCol = \"label\").setHandleInvalid(\"skip\")\n",
    "stages += [label_stringIndexer]"
   ]
  },
  {
   "cell_type": "markdown",
   "metadata": {},
   "source": [
    "# Classification with Random Forest"
   ]
  },
  {
   "cell_type": "markdown",
   "metadata": {},
   "source": [
    "Resource : \n",
    "- https://towardsdatascience.com/how-to-perform-credit-card-fraud-detection-at-large-scale-with-apache-spark-and-lightgbm-61a982de8672\n",
    "- https://github.com/patelatharva/Credit_card_fraud_detection_ULB_with_Apache_Spark_on_Databricks/blob/master/credit%20card%20fraud%20detection.ipynb"
   ]
  },
  {
   "cell_type": "code",
   "execution_count": 125,
   "metadata": {},
   "outputs": [],
   "source": [
    "from mmlspark.lightgbm import LightGBMClassifier\n",
    "from pyspark.sql import SparkSession"
   ]
  },
  {
   "cell_type": "code",
   "execution_count": 126,
   "metadata": {},
   "outputs": [
    {
     "name": "stdout",
     "output_type": "stream",
     "text": [
      "23/01/31 03:01:56 WARN SparkSession: Using an existing Spark session; only runtime SQL configurations will take effect.\n"
     ]
    }
   ],
   "source": [
    "lgbm_df = pd.read_csv(\"https://raw.githubusercontent.com/berkayalan/datasets/main/diabetes.csv\")\n",
    "spark = SparkSession.builder.config(\"spark.executor.cores\",\"2\").appName(\"LightGBM\").getOrCreate()\n",
    "lgbm_pyspark =  spark.createDataFrame(lgbm_df)"
   ]
  },
  {
   "cell_type": "code",
   "execution_count": 127,
   "metadata": {},
   "outputs": [
    {
     "name": "stdout",
     "output_type": "stream",
     "text": [
      "+-----------+-------+-------------+-------------+-------+----+------------------------+---+-------+\n",
      "|Pregnancies|Glucose|BloodPressure|SkinThickness|Insulin| BMI|DiabetesPedigreeFunction|Age|Outcome|\n",
      "+-----------+-------+-------------+-------------+-------+----+------------------------+---+-------+\n",
      "|          6|    148|           72|           35|      0|33.6|                   0.627| 50|      1|\n",
      "|          1|     85|           66|           29|      0|26.6|                   0.351| 31|      0|\n",
      "|          8|    183|           64|            0|      0|23.3|                   0.672| 32|      1|\n",
      "|          1|     89|           66|           23|     94|28.1|                   0.167| 21|      0|\n",
      "|          0|    137|           40|           35|    168|43.1|                   2.288| 33|      1|\n",
      "+-----------+-------+-------------+-------------+-------+----+------------------------+---+-------+\n",
      "only showing top 5 rows\n",
      "\n"
     ]
    }
   ],
   "source": [
    "lgbm_pyspark.show(5)"
   ]
  },
  {
   "cell_type": "code",
   "execution_count": 128,
   "metadata": {},
   "outputs": [
    {
     "name": "stdout",
     "output_type": "stream",
     "text": [
      "root\n",
      " |-- Pregnancies: long (nullable = true)\n",
      " |-- Glucose: long (nullable = true)\n",
      " |-- BloodPressure: long (nullable = true)\n",
      " |-- SkinThickness: long (nullable = true)\n",
      " |-- Insulin: long (nullable = true)\n",
      " |-- BMI: double (nullable = true)\n",
      " |-- DiabetesPedigreeFunction: double (nullable = true)\n",
      " |-- Age: long (nullable = true)\n",
      " |-- Outcome: long (nullable = true)\n",
      "\n"
     ]
    }
   ],
   "source": [
    "lgbm_pyspark.printSchema()"
   ]
  },
  {
   "cell_type": "code",
   "execution_count": 129,
   "metadata": {},
   "outputs": [
    {
     "name": "stdout",
     "output_type": "stream",
     "text": [
      "(768, 9)\n"
     ]
    }
   ],
   "source": [
    "#check the size\n",
    "print((lgbm_pyspark.count(), len(lgbm_pyspark.columns)))"
   ]
  },
  {
   "cell_type": "markdown",
   "metadata": {},
   "source": [
    "Let's check the null values with different options."
   ]
  },
  {
   "cell_type": "code",
   "execution_count": 130,
   "metadata": {},
   "outputs": [],
   "source": [
    "# Using Column.isNull()\n",
    "from pyspark.sql.functions import col"
   ]
  },
  {
   "cell_type": "code",
   "execution_count": 131,
   "metadata": {},
   "outputs": [
    {
     "name": "stdout",
     "output_type": "stream",
     "text": [
      "+-----------+-------+-------------+-------------+-------+---+------------------------+---+-------+\n",
      "|Pregnancies|Glucose|BloodPressure|SkinThickness|Insulin|BMI|DiabetesPedigreeFunction|Age|Outcome|\n",
      "+-----------+-------+-------------+-------------+-------+---+------------------------+---+-------+\n",
      "+-----------+-------+-------------+-------------+-------+---+------------------------+---+-------+\n",
      "\n"
     ]
    }
   ],
   "source": [
    "lgbm_pyspark.filter(lgbm_pyspark.BloodPressure.isNull()).show()"
   ]
  },
  {
   "cell_type": "code",
   "execution_count": 132,
   "metadata": {},
   "outputs": [
    {
     "name": "stdout",
     "output_type": "stream",
     "text": [
      "+-----------+-------+-------------+-------------+-------+---+------------------------+---+-------+\n",
      "|Pregnancies|Glucose|BloodPressure|SkinThickness|Insulin|BMI|DiabetesPedigreeFunction|Age|Outcome|\n",
      "+-----------+-------+-------------+-------------+-------+---+------------------------+---+-------+\n",
      "+-----------+-------+-------------+-------------+-------+---+------------------------+---+-------+\n",
      "\n"
     ]
    }
   ],
   "source": [
    "lgbm_pyspark.filter(\"SkinThickness is NULL\").show()"
   ]
  },
  {
   "cell_type": "code",
   "execution_count": 133,
   "metadata": {},
   "outputs": [
    {
     "name": "stdout",
     "output_type": "stream",
     "text": [
      "+-----------+-------+-------------+-------------+-------+---+------------------------+---+-------+\n",
      "|Pregnancies|Glucose|BloodPressure|SkinThickness|Insulin|BMI|DiabetesPedigreeFunction|Age|Outcome|\n",
      "+-----------+-------+-------------+-------------+-------+---+------------------------+---+-------+\n",
      "+-----------+-------+-------------+-------------+-------+---+------------------------+---+-------+\n",
      "\n"
     ]
    }
   ],
   "source": [
    "lgbm_pyspark.filter(col(\"Age\").isNull()).show()"
   ]
  },
  {
   "cell_type": "markdown",
   "metadata": {},
   "source": [
    "Let's check all null values within a for loop."
   ]
  },
  {
   "cell_type": "code",
   "execution_count": 134,
   "metadata": {},
   "outputs": [
    {
     "name": "stdout",
     "output_type": "stream",
     "text": [
      "Pregnancies column with bigint type has not null values\n",
      "Glucose column with bigint type has not null values\n",
      "BloodPressure column with bigint type has not null values\n",
      "SkinThickness column with bigint type has not null values\n",
      "Insulin column with bigint type has not null values\n",
      "BMI column with double type has not null values\n",
      "DiabetesPedigreeFunction column with double type has not null values\n",
      "Age column with bigint type has not null values\n",
      "Outcome column with bigint type has not null values\n"
     ]
    }
   ],
   "source": [
    "for (col_name, col_type) in zip(lgbm_pyspark.columns, lgbm_pyspark.dtypes):\n",
    "    \n",
    "    null_count = lgbm_pyspark.filter((col(col_name).isNull()) | (col(col_name) == \"\")).count()\n",
    "    \n",
    "    if(null_count > 0 ):\n",
    "        print(\"{} column with {} type has {} null values\".format(col_name, col_type[1], null_count))\n",
    "    else:\n",
    "        print(\"{} column with {} type has not null values\".format(col_name, col_type[1]))"
   ]
  },
  {
   "cell_type": "markdown",
   "metadata": {},
   "source": [
    "Let's check the distribution of Output column, our target column."
   ]
  },
  {
   "cell_type": "code",
   "execution_count": 135,
   "metadata": {},
   "outputs": [
    {
     "name": "stdout",
     "output_type": "stream",
     "text": [
      "+-------+-----+\n",
      "|Outcome|count|\n",
      "+-------+-----+\n",
      "|      0|  500|\n",
      "|      1|  268|\n",
      "+-------+-----+\n",
      "\n"
     ]
    }
   ],
   "source": [
    "lgbm_pyspark.select(\"Outcome\").groupBy(\"Outcome\").count().show()"
   ]
  },
  {
   "cell_type": "code",
   "execution_count": 136,
   "metadata": {},
   "outputs": [
    {
     "data": {
      "image/png": "[encoded data removed]",
      "text/plain": [
       "<Figure size 432x288 with 1 Axes>"
      ]
     },
     "metadata": {
      "needs_background": "light"
     },
     "output_type": "display_data"
    }
   ],
   "source": [
    "lgbm_pyspark.select(\"Outcome\").groupBy(\"Outcome\").count().toPandas()[\"count\"].plot(kind='bar',\n",
    "                                                                                   color=\"red\",\n",
    "                                                                                   title = \"Target Value Distribution\");"
   ]
  },
  {
   "cell_type": "markdown",
   "metadata": {},
   "source": [
    "Because we have no string column, we don't need encoding."
   ]
  },
  {
   "cell_type": "markdown",
   "metadata": {},
   "source": [
    "Now we'll do all the steps and add them to a pipeline."
   ]
  },
  {
   "cell_type": "code",
   "execution_count": 137,
   "metadata": {},
   "outputs": [],
   "source": [
    "from pyspark.ml.feature import VectorAssembler"
   ]
  },
  {
   "cell_type": "code",
   "execution_count": 138,
   "metadata": {
    "id": "oZxRrjQmVTlq"
   },
   "outputs": [],
   "source": [
    "lgbm_feature_assembler = VectorAssembler(inputCols=['Pregnancies','Glucose','BloodPressure','SkinThickness',\n",
    "                                                    'Insulin','BMI','DiabetesPedigreeFunction','Age'],\n",
    "                                         outputCol=\"Independent Features\")"
   ]
  },
  {
   "cell_type": "markdown",
   "metadata": {},
   "source": [
    "Let's do a standart scaling to our data."
   ]
  },
  {
   "cell_type": "code",
   "execution_count": 139,
   "metadata": {},
   "outputs": [],
   "source": [
    "from pyspark.ml.feature import StandardScaler\n",
    "\n",
    "scaler = StandardScaler().setInputCol(\"Independent Features\").setOutputCol(\"scaled_features\")"
   ]
  },
  {
   "cell_type": "markdown",
   "metadata": {},
   "source": [
    "Let's do a dimension reduction with PCA to our data."
   ]
  },
  {
   "cell_type": "code",
   "execution_count": 140,
   "metadata": {},
   "outputs": [],
   "source": [
    "from pyspark.ml.feature import PCA"
   ]
  },
  {
   "cell_type": "code",
   "execution_count": 141,
   "metadata": {},
   "outputs": [],
   "source": [
    "pca = PCA().setInputCol(\"scaled_features\").setK(5).setOutputCol(\"features\")"
   ]
  },
  {
   "cell_type": "markdown",
   "metadata": {},
   "source": [
    "Now, let's create our model."
   ]
  },
  {
   "cell_type": "code",
   "execution_count": 142,
   "metadata": {},
   "outputs": [],
   "source": [
    "from pyspark.ml.classification import RandomForestClassifier"
   ]
  },
  {
   "cell_type": "code",
   "execution_count": 143,
   "metadata": {},
   "outputs": [],
   "source": [
    "estimator = RandomForestClassifier(featuresCol='features',\n",
    "                                   labelCol='Outcome',\n",
    "                                   numTrees = 100)"
   ]
  },
  {
   "cell_type": "markdown",
   "metadata": {},
   "source": [
    "Now it's time to create the pipeline."
   ]
  },
  {
   "cell_type": "code",
   "execution_count": 144,
   "metadata": {},
   "outputs": [],
   "source": [
    "from pyspark.ml import Pipeline"
   ]
  },
  {
   "cell_type": "code",
   "execution_count": 145,
   "metadata": {},
   "outputs": [],
   "source": [
    "pipeline_obj = Pipeline().setStages([lgbm_feature_assembler, scaler, pca, estimator])"
   ]
  },
  {
   "cell_type": "code",
   "execution_count": 146,
   "metadata": {},
   "outputs": [],
   "source": [
    "train_df, test_df = lgbm_pyspark.randomSplit([0.8, 0.2], seed=142)"
   ]
  },
  {
   "cell_type": "code",
   "execution_count": 147,
   "metadata": {},
   "outputs": [
    {
     "name": "stdout",
     "output_type": "stream",
     "text": [
      "601\n",
      "167\n"
     ]
    }
   ],
   "source": [
    "# Check the data\n",
    "print(train_df.count())\n",
    "print(test_df.count())"
   ]
  },
  {
   "cell_type": "markdown",
   "metadata": {},
   "source": [
    "Let's fit the model."
   ]
  },
  {
   "cell_type": "code",
   "execution_count": 148,
   "metadata": {},
   "outputs": [
    {
     "name": "stdout",
     "output_type": "stream",
     "text": [
      "23/01/31 03:02:22 WARN LAPACK: Failed to load implementation from: com.github.fommil.netlib.NativeSystemLAPACK\n",
      "23/01/31 03:02:22 WARN LAPACK: Failed to load implementation from: com.github.fommil.netlib.NativeRefLAPACK\n"
     ]
    }
   ],
   "source": [
    "pipeline_model = pipeline_obj.fit(train_df)"
   ]
  },
  {
   "cell_type": "code",
   "execution_count": 153,
   "metadata": {},
   "outputs": [],
   "source": [
    "transformed_df = pipeline_model.transform(test_df)"
   ]
  },
  {
   "cell_type": "code",
   "execution_count": 154,
   "metadata": {},
   "outputs": [
    {
     "name": "stdout",
     "output_type": "stream",
     "text": [
      "+-------+----------+----------------------------------------+---------------------------------------+\n",
      "|Outcome|prediction|probability                             |rawPrediction                          |\n",
      "+-------+----------+----------------------------------------+---------------------------------------+\n",
      "|1      |0.0       |[0.7258094555563518,0.27419054444364827]|[72.58094555563515,27.419054444364818] |\n",
      "|1      |1.0       |[0.44194678154564876,0.5580532184543512]|[44.194678154564876,55.805321845435124]|\n",
      "|0      |0.0       |[0.9205018978157529,0.07949810218424723]|[92.05018978157527,7.949810218424722]  |\n",
      "|0      |0.0       |[0.9173363824227886,0.08266361757721145]|[91.73363824227887,8.266361757721146]  |\n",
      "|0      |0.0       |[0.916087467739632,0.08391253226036799] |[91.6087467739632,8.391253226036799]   |\n",
      "|1      |0.0       |[0.8804147329698243,0.11958526703017576]|[88.0414732969824,11.958526703017572]  |\n",
      "|0      |0.0       |[0.8265288797201619,0.17347112027983813]|[82.65288797201617,17.347112027983812] |\n",
      "|1      |1.0       |[0.4082792022736878,0.5917207977263123] |[40.827920227368786,59.17207977263123] |\n",
      "|0      |0.0       |[0.6789983698149646,0.32100163018503536]|[67.89983698149643,32.10016301850352]  |\n",
      "|0      |0.0       |[0.8293414488180758,0.1706585511819241] |[82.93414488180758,17.06585511819241]  |\n",
      "|0      |0.0       |[0.8220176122151124,0.17798238778488762]|[82.20176122151123,17.798238778488763] |\n",
      "|0      |0.0       |[0.5889509864156618,0.41104901358433826]|[58.89509864156618,41.10490135843383]  |\n",
      "|1      |1.0       |[0.342737536614059,0.6572624633859411]  |[34.27375366140589,65.7262463385941]   |\n",
      "|1      |0.0       |[0.6010035015816585,0.39899649841834145]|[60.10035015816585,39.89964984183415]  |\n",
      "|0      |1.0       |[0.49259577473474275,0.5074042252652573]|[49.259577473474266,50.74042252652572] |\n",
      "|0      |0.0       |[0.5365360585919795,0.4634639414080205] |[53.653605859197945,46.34639414080205] |\n",
      "|0      |0.0       |[0.910459633814949,0.08954036618505098] |[91.04596338149491,8.9540366185051]    |\n",
      "|1      |0.0       |[0.8959698271581067,0.10403017284189327]|[89.59698271581068,10.403017284189328] |\n",
      "|1      |0.0       |[0.9053793975700952,0.09462060242990482]|[90.53793975700951,9.46206024299048]   |\n",
      "|0      |0.0       |[0.7348856140377087,0.2651143859622914] |[73.48856140377085,26.511438596229134] |\n",
      "+-------+----------+----------------------------------------+---------------------------------------+\n",
      "only showing top 20 rows\n",
      "\n"
     ]
    }
   ],
   "source": [
    "transformed_df.select('Outcome','prediction','probability','rawPrediction').show(truncate=False)"
   ]
  },
  {
   "cell_type": "markdown",
   "metadata": {},
   "source": [
    "Save the model."
   ]
  },
  {
   "cell_type": "code",
   "execution_count": 155,
   "metadata": {},
   "outputs": [],
   "source": [
    "pipeline_model.stages[-1].write().overwrite().save(\"saved_models/randomforest_diabetes_pca5\")"
   ]
  }
 ],
 "metadata": {
  "colab": {
   "provenance": []
  },
  "kernelspec": {
   "display_name": "Python 3 (ipykernel)",
   "language": "python",
   "name": "python3"
  },
  "language_info": {
   "codemirror_mode": {
    "name": "ipython",
    "version": 3
   },
   "file_extension": ".py",
   "mimetype": "text/x-python",
   "name": "python",
   "nbconvert_exporter": "python",
   "pygments_lexer": "ipython3",
   "version": "3.9.12"
  },
  "varInspector": {
   "cols": {
    "lenName": 16,
    "lenType": 16,
    "lenVar": 40
   },
   "kernels_config": {
    "python": {
     "delete_cmd_postfix": "",
     "delete_cmd_prefix": "del ",
     "library": "var_list.py",
     "varRefreshCmd": "print(var_dic_list())"
    },
    "r": {
     "delete_cmd_postfix": ") ",
     "delete_cmd_prefix": "rm(",
     "library": "var_list.r",
     "varRefreshCmd": "cat(var_dic_list()) "
    }
   },
   "types_to_exclude": [
    "module",
    "function",
    "builtin_function_or_method",
    "instance",
    "_Feature"
   ],
   "window_display": false
  }
 },
 "nbformat": 4,
 "nbformat_minor": 1
}
