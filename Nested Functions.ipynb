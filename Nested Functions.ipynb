{
 "cells": [
  {
   "cell_type": "markdown",
   "metadata": {},
   "source": [
    "**Created by Berkay Alan**\n",
    "\n",
    "**Nested Funtions**\n",
    "\n",
    "**6 of December, 2020**\n"
   ]
  },
  {
   "cell_type": "code",
   "execution_count": 1,
   "metadata": {},
   "outputs": [],
   "source": [
    "def f1(): \n",
    "    s = 'I love Data Science'\n",
    "      \n",
    "    def f2(): \n",
    "        print(s+ \"- f2 worked\") \n",
    "          \n",
    "    f2() "
   ]
  },
  {
   "cell_type": "code",
   "execution_count": 2,
   "metadata": {},
   "outputs": [
    {
     "name": "stdout",
     "output_type": "stream",
     "text": [
      "I love Data Science- f2 worked\n"
     ]
    }
   ],
   "source": [
    "f1() "
   ]
  },
  {
   "cell_type": "code",
   "execution_count": 3,
   "metadata": {},
   "outputs": [
    {
     "name": "stdout",
     "output_type": "stream",
     "text": [
      "This is outer function\n",
      "This is inner function\n"
     ]
    }
   ],
   "source": [
    "def function1(number): # outer function\n",
    "    print (\"This is outer function\")\n",
    "    def function2(): # inner function\n",
    "        print (\"This is inner function\")\n",
    "    \n",
    "    if number>5:\n",
    "        return function2()\n",
    "        \n",
    "\n",
    "function1(7)"
   ]
  },
  {
   "cell_type": "code",
   "execution_count": 4,
   "metadata": {},
   "outputs": [],
   "source": [
    "def is_locked(age,is_working):\n",
    "    print(\"Lockdown against Covid\\n\")\n",
    "    def cant_go_out():\n",
    "        print(\"You can't go out!\")\n",
    "    if age>65:\n",
    "        return cant_go_out()\n",
    "    elif is_working==0:\n",
    "        return cant_go_out()\n",
    "    else:\n",
    "        print(\"You can go out! Hurrraaay! But don't forget to study for data science:)\")"
   ]
  },
  {
   "cell_type": "code",
   "execution_count": 5,
   "metadata": {},
   "outputs": [
    {
     "name": "stdout",
     "output_type": "stream",
     "text": [
      "Lockdown against Covid\n",
      "\n",
      "You can go out! Hurrraaay! But don't forget to study for data science:)\n"
     ]
    }
   ],
   "source": [
    "is_locked(20,1)"
   ]
  },
  {
   "cell_type": "code",
   "execution_count": 8,
   "metadata": {},
   "outputs": [],
   "source": [
    "def calculator():\n",
    "    \n",
    "    num1= int(input(\"Give me the first number: \"))\n",
    "    num2= int(input(\"Give me the second number: \"))\n",
    "    transaction= input(\"Give me the transaction: \")\n",
    "    \n",
    "    def summing(num1,num2):\n",
    "        return num1+num2\n",
    "    def extraction(num1,num2):\n",
    "        return num1-num2\n",
    "    def multiplication(num1,num2):\n",
    "        return num1*num2\n",
    "    def dividing(num1,num2):\n",
    "        return num1/num2\n",
    "    \n",
    "    if transaction == \"summing\":\n",
    "        return summing(num1,num2)\n",
    "    if transaction == \"extraction\":\n",
    "        return extraction(num1,num2)\n",
    "    if transaction == \"multiplication\":\n",
    "        return multiplication(num1,num2)\n",
    "    if transaction == \"dividing\":\n",
    "        return dividing(num1,num2)\n",
    "    else:\n",
    "        print(\"Wrong transaction!\")\n",
    "        "
   ]
  },
  {
   "cell_type": "code",
   "execution_count": 9,
   "metadata": {},
   "outputs": [
    {
     "name": "stdout",
     "output_type": "stream",
     "text": [
      "Give me the first number: 12\n",
      "Give me the second number: 12\n",
      "Give me the transaction: 32\n",
      "Wrong transaction!\n"
     ]
    }
   ],
   "source": [
    "calculator()"
   ]
  },
  {
   "cell_type": "code",
   "execution_count": 10,
   "metadata": {},
   "outputs": [
    {
     "name": "stdout",
     "output_type": "stream",
     "text": [
      "x in function scope f is:  4\n",
      "3\n"
     ]
    }
   ],
   "source": [
    "def f(x):\n",
    "    \n",
    "    def g():\n",
    "        x= \"inner_function_x\"\n",
    "    \n",
    "    x= x+1\n",
    "    print(\"x in function scope f is: \",x)\n",
    "    \n",
    "    a=g()\n",
    "    return x\n",
    "\n",
    "\n",
    "x=3\n",
    "z = f(x)\n",
    "print(x)\n"
   ]
  }
 ],
 "metadata": {
  "kernelspec": {
   "display_name": "Python 3",
   "language": "python",
   "name": "python3"
  },
  "language_info": {
   "codemirror_mode": {
    "name": "ipython",
    "version": 3
   },
   "file_extension": ".py",
   "mimetype": "text/x-python",
   "name": "python",
   "nbconvert_exporter": "python",
   "pygments_lexer": "ipython3",
   "version": "3.8.3"
  }
 },
 "nbformat": 4,
 "nbformat_minor": 4
}
