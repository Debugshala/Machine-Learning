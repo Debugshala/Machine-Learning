{
 "cells": [
  {
   "cell_type": "code",
   "execution_count": 1,
   "metadata": {},
   "outputs": [],
   "source": [
    "import pandas as pd\n",
    "import numpy as np"
   ]
  },
  {
   "cell_type": "code",
   "execution_count": 2,
   "metadata": {},
   "outputs": [],
   "source": [
    "from sklearn import preprocessing\n",
    "from sklearn.model_selection import train_test_split,ShuffleSplit,GridSearchCV,cross_val_score\n",
    "from sklearn.metrics import mean_squared_error,r2_score\n",
    "from sklearn.preprocessing import scale\n",
    "import matplotlib.pyplot as plt"
   ]
  },
  {
   "cell_type": "code",
   "execution_count": 3,
   "metadata": {},
   "outputs": [],
   "source": [
    "from sklearn.ensemble import RandomForestRegressor"
   ]
  },
  {
   "cell_type": "code",
   "execution_count": 10,
   "metadata": {},
   "outputs": [],
   "source": [
    "import pickle"
   ]
  },
  {
   "cell_type": "code",
   "execution_count": 4,
   "metadata": {},
   "outputs": [],
   "source": [
    "from sklearn.preprocessing import StandardScaler"
   ]
  },
  {
   "cell_type": "code",
   "execution_count": 5,
   "metadata": {},
   "outputs": [],
   "source": [
    "def data_preprocessing(df):\n",
    "    df=df.fillna(method='bfill') # Fill the null values\n",
    "    df=df.fillna(method='ffill')\n",
    "    df=df.fillna(0) \n",
    "    \n",
    "    scaler = StandardScaler()\n",
    "    df=scaler.fit_transform(df)\n",
    "    \n",
    "    return df"
   ]
  },
  {
   "cell_type": "code",
   "execution_count": 6,
   "metadata": {},
   "outputs": [],
   "source": [
    "def create_model(X,y,test_size):\n",
    "    X_train, X_test,y_train,y_test = train_test_split(X,y, test_size = test_size,random_state = 42)\n",
    "    \n",
    "    rf_model= RandomForestRegressor(random_state=42)\n",
    "    rf_model.fit(X_train,y_train)\n",
    "    \n",
    "    y_pred= rf_model.predict(X_test)\n",
    "    \n",
    "    print(f\"Result: {0}\".format(mean_squared_error(y_test,y_pred)))\n",
    "    \n",
    "    return rf_model"
   ]
  },
  {
   "cell_type": "code",
   "execution_count": 7,
   "metadata": {},
   "outputs": [],
   "source": [
    "def create_model(X,y):\n",
    "    \n",
    "    rf_model= RandomForestRegressor(random_state=42)\n",
    "    rf_model.fit(X,y)\n",
    "    \n",
    "    return rf_model"
   ]
  },
  {
   "cell_type": "code",
   "execution_count": 8,
   "metadata": {},
   "outputs": [],
   "source": [
    "def model_tuning(X,y):\n",
    "    \n",
    "    rf_params = {\"max_depth\": list(range(1,10)),\n",
    "                 \"max_features\": [3,5,10,15],\n",
    "                 \"n_estimators\" :[100,200,500,2000,1000]}\n",
    "    \n",
    "    rf_model = RandomForestRegressor(random_state=42)\n",
    "\n",
    "    rf_cv_model= GridSearchCV(rf_model,rf_params,cv=10,verbose=verbose,n_jobs=-1).fit(X,y) #10 fold cv\n",
    "    \n",
    "    depth = rf_cv_model.best_params_['max_depth']\n",
    "    feat = rf_cv_model.best_params_['max_features']\n",
    "    n_est= rf_cv_model.best_params_[\"n_estimators\"]\n",
    "    \n",
    "    rf_tuned= RandomForestRegressor(max_depth=depth,max_features=feat, n_estimators=n_est).fit(X,y)\n",
    "    \n",
    "    return rf_tuned"
   ]
  },
  {
   "cell_type": "code",
   "execution_count": 9,
   "metadata": {},
   "outputs": [],
   "source": [
    "def visualize_features(rf_tuned):\n",
    "    importance= pd.DataFrame({\"importance\": rf_tuned.feature_importances_*100},\n",
    "                            index=X.columns)\n",
    "    importance.sort_values(by=\"Importance\",axis=0,ascending=True).plot(kind=\"barh\",color=\"r\")\n",
    "    plt.xlabel(\"Feature Importances\")\n",
    "    plt.show()"
   ]
  },
  {
   "cell_type": "code",
   "execution_count": 14,
   "metadata": {},
   "outputs": [],
   "source": [
    "def save_model(model,filename):\n",
    "    filename = '{0}.pkl'.format(filename)# save the model to disk\n",
    "    with open(filename, 'wb') as file:\n",
    "        pickle.dump(model, file)"
   ]
  },
  {
   "cell_type": "code",
   "execution_count": 16,
   "metadata": {},
   "outputs": [],
   "source": [
    "def load_data(filename):\n",
    "    with open(filename, 'rb') as file:  # load the model from disk\n",
    "        pickle_model = pickle.load(file)"
   ]
  }
 ],
 "metadata": {
  "kernelspec": {
   "display_name": "Python 3",
   "language": "python",
   "name": "python3"
  },
  "language_info": {
   "codemirror_mode": {
    "name": "ipython",
    "version": 3
   },
   "file_extension": ".py",
   "mimetype": "text/x-python",
   "name": "python",
   "nbconvert_exporter": "python",
   "pygments_lexer": "ipython3",
   "version": "3.7.7"
  }
 },
 "nbformat": 4,
 "nbformat_minor": 4
}
